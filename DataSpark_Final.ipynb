{
 "cells": [
  {
   "cell_type": "code",
   "execution_count": 1,
   "metadata": {
    "id": "DjHql0N84zoZ"
   },
   "outputs": [],
   "source": [
    "import pandas as pd\n",
    "import numpy as np\n",
    "import matplotlib.pyplot as plt\n",
    "import seaborn as sns\n",
    "%matplotlib inline\n",
    "\n",
    "import warnings\n",
    "warnings.filterwarnings('ignore')"
   ]
  },
  {
   "cell_type": "code",
   "execution_count": 3,
   "metadata": {
    "id": "-VtGjNXnJxCX"
   },
   "outputs": [],
   "source": [
    "pd.set_option('display.max_columns', None)"
   ]
  },
  {
   "cell_type": "markdown",
   "metadata": {
    "id": "5Gx2VJY_5yHJ"
   },
   "source": [
    "# Importing DataSets and Data Cleaning"
   ]
  },
  {
   "cell_type": "code",
   "execution_count": 9,
   "metadata": {
    "id": "_Wo1iP9_5VbP"
   },
   "outputs": [],
   "source": [
    "sales_df = pd.read_csv(r\"C:\\Users\\Bhuvanesh\\Desktop\\Yogesh Guvi\\Data Spark Project\\Data Set\\Sales.csv\", encoding='latin-1')\n",
    "customers_df = pd.read_csv(r\"C:\\Users\\Bhuvanesh\\Desktop\\Yogesh Guvi\\Data Spark Project\\Data Set\\Customers.csv\", encoding='latin-1')\n",
    "products_df = pd.read_csv(r\"C:\\Users\\Bhuvanesh\\Desktop\\Yogesh Guvi\\Data Spark Project\\Data Set\\Products.csv\", encoding='latin-1')\n",
    "store_df = pd.read_csv(r\"C:\\Users\\Bhuvanesh\\Desktop\\Yogesh Guvi\\Data Spark Project\\Data Set\\Stores.csv\", encoding='latin-1')\n",
    "exchange_rates_df = pd.read_csv(r\"C:\\Users\\Bhuvanesh\\Desktop\\Yogesh Guvi\\Data Spark Project\\Data Set\\Exchange_Rates.csv\", encoding='latin-1')"
   ]
  },
  {
   "cell_type": "markdown",
   "metadata": {
    "id": "zYjold8v6Ik8"
   },
   "source": [
    "## Sales Dataset"
   ]
  },
  {
   "cell_type": "code",
   "execution_count": 11,
   "metadata": {
    "colab": {
     "base_uri": "https://localhost:8080/"
    },
    "executionInfo": {
     "elapsed": 13,
     "status": "ok",
     "timestamp": 1738738373580,
     "user": {
      "displayName": "Nandhakumar Gajendran",
      "userId": "10811775384992849761"
     },
     "user_tz": -330
    },
    "id": "gralRSkn6ClD",
    "outputId": "cfe3a175-1f97-41fe-afcf-dc239bcdc140"
   },
   "outputs": [
    {
     "data": {
      "text/html": [
       "<div>\n",
       "<style scoped>\n",
       "    .dataframe tbody tr th:only-of-type {\n",
       "        vertical-align: middle;\n",
       "    }\n",
       "\n",
       "    .dataframe tbody tr th {\n",
       "        vertical-align: top;\n",
       "    }\n",
       "\n",
       "    .dataframe thead th {\n",
       "        text-align: right;\n",
       "    }\n",
       "</style>\n",
       "<table border=\"1\" class=\"dataframe\">\n",
       "  <thead>\n",
       "    <tr style=\"text-align: right;\">\n",
       "      <th></th>\n",
       "      <th>Order Number</th>\n",
       "      <th>Line Item</th>\n",
       "      <th>Order Date</th>\n",
       "      <th>Delivery Date</th>\n",
       "      <th>CustomerKey</th>\n",
       "      <th>StoreKey</th>\n",
       "      <th>ProductKey</th>\n",
       "      <th>Quantity</th>\n",
       "      <th>Currency Code</th>\n",
       "    </tr>\n",
       "  </thead>\n",
       "  <tbody>\n",
       "    <tr>\n",
       "      <th>0</th>\n",
       "      <td>366000</td>\n",
       "      <td>1</td>\n",
       "      <td>1/1/2016</td>\n",
       "      <td>NaN</td>\n",
       "      <td>265598</td>\n",
       "      <td>10</td>\n",
       "      <td>1304</td>\n",
       "      <td>1</td>\n",
       "      <td>CAD</td>\n",
       "    </tr>\n",
       "    <tr>\n",
       "      <th>1</th>\n",
       "      <td>366001</td>\n",
       "      <td>1</td>\n",
       "      <td>1/1/2016</td>\n",
       "      <td>1/13/2016</td>\n",
       "      <td>1269051</td>\n",
       "      <td>0</td>\n",
       "      <td>1048</td>\n",
       "      <td>2</td>\n",
       "      <td>USD</td>\n",
       "    </tr>\n",
       "    <tr>\n",
       "      <th>2</th>\n",
       "      <td>366001</td>\n",
       "      <td>2</td>\n",
       "      <td>1/1/2016</td>\n",
       "      <td>1/13/2016</td>\n",
       "      <td>1269051</td>\n",
       "      <td>0</td>\n",
       "      <td>2007</td>\n",
       "      <td>1</td>\n",
       "      <td>USD</td>\n",
       "    </tr>\n",
       "    <tr>\n",
       "      <th>3</th>\n",
       "      <td>366002</td>\n",
       "      <td>1</td>\n",
       "      <td>1/1/2016</td>\n",
       "      <td>1/12/2016</td>\n",
       "      <td>266019</td>\n",
       "      <td>0</td>\n",
       "      <td>1106</td>\n",
       "      <td>7</td>\n",
       "      <td>CAD</td>\n",
       "    </tr>\n",
       "    <tr>\n",
       "      <th>4</th>\n",
       "      <td>366002</td>\n",
       "      <td>2</td>\n",
       "      <td>1/1/2016</td>\n",
       "      <td>1/12/2016</td>\n",
       "      <td>266019</td>\n",
       "      <td>0</td>\n",
       "      <td>373</td>\n",
       "      <td>1</td>\n",
       "      <td>CAD</td>\n",
       "    </tr>\n",
       "  </tbody>\n",
       "</table>\n",
       "</div>"
      ],
      "text/plain": [
       "   Order Number  Line Item Order Date Delivery Date  CustomerKey  StoreKey  \\\n",
       "0        366000          1   1/1/2016           NaN       265598        10   \n",
       "1        366001          1   1/1/2016     1/13/2016      1269051         0   \n",
       "2        366001          2   1/1/2016     1/13/2016      1269051         0   \n",
       "3        366002          1   1/1/2016     1/12/2016       266019         0   \n",
       "4        366002          2   1/1/2016     1/12/2016       266019         0   \n",
       "\n",
       "   ProductKey  Quantity Currency Code  \n",
       "0        1304         1           CAD  \n",
       "1        1048         2           USD  \n",
       "2        2007         1           USD  \n",
       "3        1106         7           CAD  \n",
       "4         373         1           CAD  "
      ]
     },
     "execution_count": 11,
     "metadata": {},
     "output_type": "execute_result"
    }
   ],
   "source": [
    "sales_df.head()"
   ]
  },
  {
   "cell_type": "code",
   "execution_count": 13,
   "metadata": {
    "colab": {
     "base_uri": "https://localhost:8080/"
    },
    "executionInfo": {
     "elapsed": 12,
     "status": "ok",
     "timestamp": 1738738373580,
     "user": {
      "displayName": "Nandhakumar Gajendran",
      "userId": "10811775384992849761"
     },
     "user_tz": -330
    },
    "id": "Qgi_BIaB-f1V",
    "outputId": "42a095fe-2ac9-4315-c5ec-30233a8291e3"
   },
   "outputs": [
    {
     "name": "stdout",
     "output_type": "stream",
     "text": [
      "<class 'pandas.core.frame.DataFrame'>\n",
      "RangeIndex: 62884 entries, 0 to 62883\n",
      "Data columns (total 9 columns):\n",
      " #   Column         Non-Null Count  Dtype \n",
      "---  ------         --------------  ----- \n",
      " 0   Order Number   62884 non-null  int64 \n",
      " 1   Line Item      62884 non-null  int64 \n",
      " 2   Order Date     62884 non-null  object\n",
      " 3   Delivery Date  13165 non-null  object\n",
      " 4   CustomerKey    62884 non-null  int64 \n",
      " 5   StoreKey       62884 non-null  int64 \n",
      " 6   ProductKey     62884 non-null  int64 \n",
      " 7   Quantity       62884 non-null  int64 \n",
      " 8   Currency Code  62884 non-null  object\n",
      "dtypes: int64(6), object(3)\n",
      "memory usage: 4.3+ MB\n"
     ]
    }
   ],
   "source": [
    "sales_df.info()"
   ]
  },
  {
   "cell_type": "code",
   "execution_count": 15,
   "metadata": {
    "id": "YSc0V-h86bY9"
   },
   "outputs": [],
   "source": [
    "sales_df.columns = sales_df.columns.str.lower()\n",
    "sales_df.columns = sales_df.columns.str.replace(' ','_')"
   ]
  },
  {
   "cell_type": "code",
   "execution_count": 17,
   "metadata": {
    "colab": {
     "base_uri": "https://localhost:8080/"
    },
    "executionInfo": {
     "elapsed": 12,
     "status": "ok",
     "timestamp": 1738738373580,
     "user": {
      "displayName": "Nandhakumar Gajendran",
      "userId": "10811775384992849761"
     },
     "user_tz": -330
    },
    "id": "Bl9QqWm_6FxJ",
    "outputId": "fc82b708-682d-4c81-ef78-daf8078f7207"
   },
   "outputs": [
    {
     "data": {
      "text/plain": [
       "order_number         0\n",
       "line_item            0\n",
       "order_date           0\n",
       "delivery_date    49719\n",
       "customerkey          0\n",
       "storekey             0\n",
       "productkey           0\n",
       "quantity             0\n",
       "currency_code        0\n",
       "dtype: int64"
      ]
     },
     "execution_count": 17,
     "metadata": {},
     "output_type": "execute_result"
    }
   ],
   "source": [
    "sales_df.isnull().sum()"
   ]
  },
  {
   "cell_type": "code",
   "execution_count": 19,
   "metadata": {
    "id": "-Y91pYse8vfo"
   },
   "outputs": [],
   "source": [
    "sales_df['order_date'] = pd.to_datetime(sales_df['order_date'])"
   ]
  },
  {
   "cell_type": "code",
   "execution_count": 21,
   "metadata": {
    "id": "DzjLqReQ8vdb"
   },
   "outputs": [],
   "source": [
    "sales_df['delivery_date'] = pd.to_datetime(sales_df['delivery_date'], format=\"%m/%d/%Y\", errors='coerce').dt.date"
   ]
  },
  {
   "cell_type": "code",
   "execution_count": 23,
   "metadata": {
    "colab": {
     "base_uri": "https://localhost:8080/"
    },
    "executionInfo": {
     "elapsed": 6,
     "status": "ok",
     "timestamp": 1738738373964,
     "user": {
      "displayName": "Nandhakumar Gajendran",
      "userId": "10811775384992849761"
     },
     "user_tz": -330
    },
    "id": "iSf6sY2N8vbg",
    "outputId": "c6d3b086-7f81-4e06-9ecc-5990f1a288e3"
   },
   "outputs": [
    {
     "data": {
      "text/plain": [
       "49719"
      ]
     },
     "execution_count": 23,
     "metadata": {},
     "output_type": "execute_result"
    }
   ],
   "source": [
    "sales_df.delivery_date.isnull().sum()"
   ]
  },
  {
   "cell_type": "code",
   "execution_count": 25,
   "metadata": {
    "id": "HK89Nhvl8vYx"
   },
   "outputs": [],
   "source": [
    "sales_df['delivery_date'] = pd.to_datetime(sales_df['delivery_date'])"
   ]
  },
  {
   "cell_type": "code",
   "execution_count": 27,
   "metadata": {
    "id": "cr8fL8yzLHMW"
   },
   "outputs": [],
   "source": [
    "sales_df = sales_df.drop('delivery_date', axis=1)"
   ]
  },
  {
   "cell_type": "code",
   "execution_count": 29,
   "metadata": {
    "colab": {
     "base_uri": "https://localhost:8080/"
    },
    "executionInfo": {
     "elapsed": 5,
     "status": "ok",
     "timestamp": 1738738373964,
     "user": {
      "displayName": "Nandhakumar Gajendran",
      "userId": "10811775384992849761"
     },
     "user_tz": -330
    },
    "id": "ySjGxZZI9qJy",
    "outputId": "a148829a-96b9-4204-f435-2c7b0c21afc7"
   },
   "outputs": [
    {
     "data": {
      "text/plain": [
       "0"
      ]
     },
     "execution_count": 29,
     "metadata": {},
     "output_type": "execute_result"
    }
   ],
   "source": [
    "sales_df.duplicated().sum()"
   ]
  },
  {
   "cell_type": "code",
   "execution_count": 31,
   "metadata": {
    "colab": {
     "base_uri": "https://localhost:8080/"
    },
    "executionInfo": {
     "elapsed": 6,
     "status": "ok",
     "timestamp": 1738738373965,
     "user": {
      "displayName": "Nandhakumar Gajendran",
      "userId": "10811775384992849761"
     },
     "user_tz": -330
    },
    "id": "d41fhgXK-QOS",
    "outputId": "e59b308d-6436-4ad1-9e47-ec3bee6f3b74"
   },
   "outputs": [
    {
     "data": {
      "text/plain": [
       "order_number     0\n",
       "line_item        0\n",
       "order_date       0\n",
       "customerkey      0\n",
       "storekey         0\n",
       "productkey       0\n",
       "quantity         0\n",
       "currency_code    0\n",
       "dtype: int64"
      ]
     },
     "execution_count": 31,
     "metadata": {},
     "output_type": "execute_result"
    }
   ],
   "source": [
    "sales_df.isnull().sum()"
   ]
  },
  {
   "cell_type": "code",
   "execution_count": 33,
   "metadata": {
    "colab": {
     "base_uri": "https://localhost:8080/"
    },
    "executionInfo": {
     "elapsed": 5,
     "status": "ok",
     "timestamp": 1738738373965,
     "user": {
      "displayName": "Nandhakumar Gajendran",
      "userId": "10811775384992849761"
     },
     "user_tz": -330
    },
    "id": "p-r2jkh59_F1",
    "outputId": "11325fb3-125b-4c0d-881b-7c2dfee55ba0"
   },
   "outputs": [
    {
     "data": {
      "text/plain": [
       "Index(['order_number', 'line_item', 'order_date', 'customerkey', 'storekey',\n",
       "       'productkey', 'quantity', 'currency_code'],\n",
       "      dtype='object')"
      ]
     },
     "execution_count": 33,
     "metadata": {},
     "output_type": "execute_result"
    }
   ],
   "source": [
    "sales_df.columns"
   ]
  },
  {
   "cell_type": "code",
   "execution_count": 35,
   "metadata": {
    "colab": {
     "base_uri": "https://localhost:8080/"
    },
    "executionInfo": {
     "elapsed": 2318,
     "status": "ok",
     "timestamp": 1738738376278,
     "user": {
      "displayName": "Nandhakumar Gajendran",
      "userId": "10811775384992849761"
     },
     "user_tz": -330
    },
    "id": "PYfOmFoF9qHi",
    "outputId": "938c9d81-7a73-4e8b-e2a4-96b50eedd73a"
   },
   "outputs": [
    {
     "data": {
      "image/png": "[encoded data removed]",
      "text/plain": [
       "<Figure size 500x400 with 1 Axes>"
      ]
     },
     "metadata": {},
     "output_type": "display_data"
    },
    {
     "data": {
      "image/png": "[encoded data removed]",
      "text/plain": [
       "<Figure size 500x400 with 1 Axes>"
      ]
     },
     "metadata": {},
     "output_type": "display_data"
    },
    {
     "data": {
      "image/png": "[encoded data removed]",
      "text/plain": [
       "<Figure size 500x400 with 1 Axes>"
      ]
     },
     "metadata": {},
     "output_type": "display_data"
    },
    {
     "data": {
      "image/png": "[encoded data removed]",
      "text/plain": [
       "<Figure size 500x400 with 1 Axes>"
      ]
     },
     "metadata": {},
     "output_type": "display_data"
    }
   ],
   "source": [
    "# EDA for sales\n",
    "numerical_features = ['quantity', 'storekey', 'productkey', 'customerkey']\n",
    "for feature in numerical_features:\n",
    "    plt.figure(figsize=(5, 4))\n",
    "    sns.histplot(sales_df[feature], bins=30, kde=True)\n",
    "    plt.title(f\"Distribution of {feature}\")\n",
    "    plt.show()"
   ]
  },
  {
   "cell_type": "markdown",
   "metadata": {
    "id": "0JTLCXxA8qxk"
   },
   "source": [
    "## Customers Dataset"
   ]
  },
  {
   "cell_type": "code",
   "execution_count": 37,
   "metadata": {
    "colab": {
     "base_uri": "https://localhost:8080/"
    },
    "executionInfo": {
     "elapsed": 11,
     "status": "ok",
     "timestamp": 1738738376278,
     "user": {
      "displayName": "Nandhakumar Gajendran",
      "userId": "10811775384992849761"
     },
     "user_tz": -330
    },
    "id": "pWRytETo6TMl",
    "outputId": "5d5e10d3-0e4e-4262-f768-96cc8e7318e9"
   },
   "outputs": [
    {
     "data": {
      "text/html": [
       "<div>\n",
       "<style scoped>\n",
       "    .dataframe tbody tr th:only-of-type {\n",
       "        vertical-align: middle;\n",
       "    }\n",
       "\n",
       "    .dataframe tbody tr th {\n",
       "        vertical-align: top;\n",
       "    }\n",
       "\n",
       "    .dataframe thead th {\n",
       "        text-align: right;\n",
       "    }\n",
       "</style>\n",
       "<table border=\"1\" class=\"dataframe\">\n",
       "  <thead>\n",
       "    <tr style=\"text-align: right;\">\n",
       "      <th></th>\n",
       "      <th>CustomerKey</th>\n",
       "      <th>Gender</th>\n",
       "      <th>Name</th>\n",
       "      <th>City</th>\n",
       "      <th>State Code</th>\n",
       "      <th>State</th>\n",
       "      <th>Zip Code</th>\n",
       "      <th>Country</th>\n",
       "      <th>Continent</th>\n",
       "      <th>Birthday</th>\n",
       "    </tr>\n",
       "  </thead>\n",
       "  <tbody>\n",
       "    <tr>\n",
       "      <th>0</th>\n",
       "      <td>301</td>\n",
       "      <td>Female</td>\n",
       "      <td>Lilly Harding</td>\n",
       "      <td>WANDEARAH EAST</td>\n",
       "      <td>SA</td>\n",
       "      <td>South Australia</td>\n",
       "      <td>5523</td>\n",
       "      <td>Australia</td>\n",
       "      <td>Australia</td>\n",
       "      <td>7/3/1939</td>\n",
       "    </tr>\n",
       "    <tr>\n",
       "      <th>1</th>\n",
       "      <td>325</td>\n",
       "      <td>Female</td>\n",
       "      <td>Madison Hull</td>\n",
       "      <td>MOUNT BUDD</td>\n",
       "      <td>WA</td>\n",
       "      <td>Western Australia</td>\n",
       "      <td>6522</td>\n",
       "      <td>Australia</td>\n",
       "      <td>Australia</td>\n",
       "      <td>9/27/1979</td>\n",
       "    </tr>\n",
       "    <tr>\n",
       "      <th>2</th>\n",
       "      <td>554</td>\n",
       "      <td>Female</td>\n",
       "      <td>Claire Ferres</td>\n",
       "      <td>WINJALLOK</td>\n",
       "      <td>VIC</td>\n",
       "      <td>Victoria</td>\n",
       "      <td>3380</td>\n",
       "      <td>Australia</td>\n",
       "      <td>Australia</td>\n",
       "      <td>5/26/1947</td>\n",
       "    </tr>\n",
       "    <tr>\n",
       "      <th>3</th>\n",
       "      <td>786</td>\n",
       "      <td>Male</td>\n",
       "      <td>Jai Poltpalingada</td>\n",
       "      <td>MIDDLE RIVER</td>\n",
       "      <td>SA</td>\n",
       "      <td>South Australia</td>\n",
       "      <td>5223</td>\n",
       "      <td>Australia</td>\n",
       "      <td>Australia</td>\n",
       "      <td>9/17/1957</td>\n",
       "    </tr>\n",
       "    <tr>\n",
       "      <th>4</th>\n",
       "      <td>1042</td>\n",
       "      <td>Male</td>\n",
       "      <td>Aidan Pankhurst</td>\n",
       "      <td>TAWONGA SOUTH</td>\n",
       "      <td>VIC</td>\n",
       "      <td>Victoria</td>\n",
       "      <td>3698</td>\n",
       "      <td>Australia</td>\n",
       "      <td>Australia</td>\n",
       "      <td>11/19/1965</td>\n",
       "    </tr>\n",
       "  </tbody>\n",
       "</table>\n",
       "</div>"
      ],
      "text/plain": [
       "   CustomerKey  Gender               Name            City State Code  \\\n",
       "0          301  Female      Lilly Harding  WANDEARAH EAST         SA   \n",
       "1          325  Female       Madison Hull      MOUNT BUDD         WA   \n",
       "2          554  Female      Claire Ferres       WINJALLOK        VIC   \n",
       "3          786    Male  Jai Poltpalingada    MIDDLE RIVER         SA   \n",
       "4         1042    Male    Aidan Pankhurst   TAWONGA SOUTH        VIC   \n",
       "\n",
       "               State Zip Code    Country  Continent    Birthday  \n",
       "0    South Australia     5523  Australia  Australia    7/3/1939  \n",
       "1  Western Australia     6522  Australia  Australia   9/27/1979  \n",
       "2           Victoria     3380  Australia  Australia   5/26/1947  \n",
       "3    South Australia     5223  Australia  Australia   9/17/1957  \n",
       "4           Victoria     3698  Australia  Australia  11/19/1965  "
      ]
     },
     "execution_count": 37,
     "metadata": {},
     "output_type": "execute_result"
    }
   ],
   "source": [
    "customers_df.head()"
   ]
  },
  {
   "cell_type": "code",
   "execution_count": 39,
   "metadata": {
    "id": "dG89_adM6xC2"
   },
   "outputs": [],
   "source": [
    "customers_df.columns = customers_df.columns.str.lower()\n",
    "customers_df.columns = customers_df.columns.str.replace(' ','_')"
   ]
  },
  {
   "cell_type": "code",
   "execution_count": 41,
   "metadata": {
    "colab": {
     "base_uri": "https://localhost:8080/"
    },
    "executionInfo": {
     "elapsed": 10,
     "status": "ok",
     "timestamp": 1738738376278,
     "user": {
      "displayName": "Nandhakumar Gajendran",
      "userId": "10811775384992849761"
     },
     "user_tz": -330
    },
    "id": "Qoni-9dz_Sav",
    "outputId": "69dfaad9-817e-4848-fe4c-2e244a01b06d"
   },
   "outputs": [
    {
     "name": "stdout",
     "output_type": "stream",
     "text": [
      "<class 'pandas.core.frame.DataFrame'>\n",
      "RangeIndex: 15266 entries, 0 to 15265\n",
      "Data columns (total 10 columns):\n",
      " #   Column       Non-Null Count  Dtype \n",
      "---  ------       --------------  ----- \n",
      " 0   customerkey  15266 non-null  int64 \n",
      " 1   gender       15266 non-null  object\n",
      " 2   name         15266 non-null  object\n",
      " 3   city         15266 non-null  object\n",
      " 4   state_code   15256 non-null  object\n",
      " 5   state        15266 non-null  object\n",
      " 6   zip_code     15266 non-null  object\n",
      " 7   country      15266 non-null  object\n",
      " 8   continent    15266 non-null  object\n",
      " 9   birthday     15266 non-null  object\n",
      "dtypes: int64(1), object(9)\n",
      "memory usage: 1.2+ MB\n"
     ]
    }
   ],
   "source": [
    "customers_df.info()"
   ]
  },
  {
   "cell_type": "code",
   "execution_count": 43,
   "metadata": {
    "colab": {
     "base_uri": "https://localhost:8080/"
    },
    "executionInfo": {
     "elapsed": 10,
     "status": "ok",
     "timestamp": 1738738376278,
     "user": {
      "displayName": "Nandhakumar Gajendran",
      "userId": "10811775384992849761"
     },
     "user_tz": -330
    },
    "id": "AbmuDF3E64ss",
    "outputId": "f6ab2e4a-ec89-4cd1-8cc7-8e637a2c44b2"
   },
   "outputs": [
    {
     "data": {
      "text/plain": [
       "customerkey     0\n",
       "gender          0\n",
       "name            0\n",
       "city            0\n",
       "state_code     10\n",
       "state           0\n",
       "zip_code        0\n",
       "country         0\n",
       "continent       0\n",
       "birthday        0\n",
       "dtype: int64"
      ]
     },
     "execution_count": 43,
     "metadata": {},
     "output_type": "execute_result"
    }
   ],
   "source": [
    "customers_df.isnull().sum()"
   ]
  },
  {
   "cell_type": "code",
   "execution_count": null,
   "metadata": {
    "id": "LFeGRXBF-YO6"
   },
   "outputs": [],
   "source": [
    "# Removing Unwanted Columns\n",
    "#customers_df.drop(['state_code','zip_code'], axis=1, inplace=True)"
   ]
  },
  {
   "cell_type": "code",
   "execution_count": 45,
   "metadata": {
    "colab": {
     "base_uri": "https://localhost:8080/"
    },
    "executionInfo": {
     "elapsed": 548,
     "status": "ok",
     "timestamp": 1738738376817,
     "user": {
      "displayName": "Nandhakumar Gajendran",
      "userId": "10811775384992849761"
     },
     "user_tz": -330
    },
    "id": "PWUV9Qck-YM4",
    "outputId": "27ec789f-8799-4521-badc-f44795832809"
   },
   "outputs": [
    {
     "data": {
      "text/plain": [
       "0"
      ]
     },
     "execution_count": 45,
     "metadata": {},
     "output_type": "execute_result"
    }
   ],
   "source": [
    "customers_df.duplicated().sum()"
   ]
  },
  {
   "cell_type": "code",
   "execution_count": 47,
   "metadata": {
    "id": "yFObam2o-YKS"
   },
   "outputs": [],
   "source": [
    "# Changing Birthday dtype to datetime format\n",
    "customers_df['birthday'] = pd.to_datetime(customers_df['birthday'],format=\"%m/%d/%Y\")"
   ]
  },
  {
   "cell_type": "code",
   "execution_count": 49,
   "metadata": {
    "colab": {
     "base_uri": "https://localhost:8080/"
    },
    "executionInfo": {
     "elapsed": 10,
     "status": "ok",
     "timestamp": 1738738376817,
     "user": {
      "displayName": "Nandhakumar Gajendran",
      "userId": "10811775384992849761"
     },
     "user_tz": -330
    },
    "id": "VtDldmSxAToQ",
    "outputId": "1b2ad8c5-df54-4bf5-9016-1c1da3bc1974"
   },
   "outputs": [
    {
     "data": {
      "text/plain": [
       "dtype('<M8[ns]')"
      ]
     },
     "execution_count": 49,
     "metadata": {},
     "output_type": "execute_result"
    }
   ],
   "source": [
    "customers_df.birthday.dtype"
   ]
  },
  {
   "cell_type": "code",
   "execution_count": 51,
   "metadata": {
    "id": "x4wVwlMOouIs"
   },
   "outputs": [],
   "source": [
    "age = 2023 - customers_df['birthday'].dt.year\n",
    "customers_df['age'] = age"
   ]
  },
  {
   "cell_type": "code",
   "execution_count": 53,
   "metadata": {
    "colab": {
     "base_uri": "https://localhost:8080/"
    },
    "executionInfo": {
     "elapsed": 10,
     "status": "ok",
     "timestamp": 1738738376817,
     "user": {
      "displayName": "Nandhakumar Gajendran",
      "userId": "10811775384992849761"
     },
     "user_tz": -330
    },
    "id": "CRIoB-WC-YGP",
    "outputId": "d4393019-4ac4-470a-ef1b-c88134de0210"
   },
   "outputs": [
    {
     "data": {
      "text/html": [
       "<div>\n",
       "<style scoped>\n",
       "    .dataframe tbody tr th:only-of-type {\n",
       "        vertical-align: middle;\n",
       "    }\n",
       "\n",
       "    .dataframe tbody tr th {\n",
       "        vertical-align: top;\n",
       "    }\n",
       "\n",
       "    .dataframe thead th {\n",
       "        text-align: right;\n",
       "    }\n",
       "</style>\n",
       "<table border=\"1\" class=\"dataframe\">\n",
       "  <thead>\n",
       "    <tr style=\"text-align: right;\">\n",
       "      <th></th>\n",
       "      <th>customerkey</th>\n",
       "      <th>gender</th>\n",
       "      <th>name</th>\n",
       "      <th>city</th>\n",
       "      <th>state_code</th>\n",
       "      <th>state</th>\n",
       "      <th>zip_code</th>\n",
       "      <th>country</th>\n",
       "      <th>continent</th>\n",
       "      <th>birthday</th>\n",
       "      <th>age</th>\n",
       "    </tr>\n",
       "  </thead>\n",
       "  <tbody>\n",
       "    <tr>\n",
       "      <th>0</th>\n",
       "      <td>301</td>\n",
       "      <td>Female</td>\n",
       "      <td>Lilly Harding</td>\n",
       "      <td>WANDEARAH EAST</td>\n",
       "      <td>SA</td>\n",
       "      <td>South Australia</td>\n",
       "      <td>5523</td>\n",
       "      <td>Australia</td>\n",
       "      <td>Australia</td>\n",
       "      <td>1939-07-03</td>\n",
       "      <td>84</td>\n",
       "    </tr>\n",
       "    <tr>\n",
       "      <th>1</th>\n",
       "      <td>325</td>\n",
       "      <td>Female</td>\n",
       "      <td>Madison Hull</td>\n",
       "      <td>MOUNT BUDD</td>\n",
       "      <td>WA</td>\n",
       "      <td>Western Australia</td>\n",
       "      <td>6522</td>\n",
       "      <td>Australia</td>\n",
       "      <td>Australia</td>\n",
       "      <td>1979-09-27</td>\n",
       "      <td>44</td>\n",
       "    </tr>\n",
       "    <tr>\n",
       "      <th>2</th>\n",
       "      <td>554</td>\n",
       "      <td>Female</td>\n",
       "      <td>Claire Ferres</td>\n",
       "      <td>WINJALLOK</td>\n",
       "      <td>VIC</td>\n",
       "      <td>Victoria</td>\n",
       "      <td>3380</td>\n",
       "      <td>Australia</td>\n",
       "      <td>Australia</td>\n",
       "      <td>1947-05-26</td>\n",
       "      <td>76</td>\n",
       "    </tr>\n",
       "    <tr>\n",
       "      <th>3</th>\n",
       "      <td>786</td>\n",
       "      <td>Male</td>\n",
       "      <td>Jai Poltpalingada</td>\n",
       "      <td>MIDDLE RIVER</td>\n",
       "      <td>SA</td>\n",
       "      <td>South Australia</td>\n",
       "      <td>5223</td>\n",
       "      <td>Australia</td>\n",
       "      <td>Australia</td>\n",
       "      <td>1957-09-17</td>\n",
       "      <td>66</td>\n",
       "    </tr>\n",
       "    <tr>\n",
       "      <th>4</th>\n",
       "      <td>1042</td>\n",
       "      <td>Male</td>\n",
       "      <td>Aidan Pankhurst</td>\n",
       "      <td>TAWONGA SOUTH</td>\n",
       "      <td>VIC</td>\n",
       "      <td>Victoria</td>\n",
       "      <td>3698</td>\n",
       "      <td>Australia</td>\n",
       "      <td>Australia</td>\n",
       "      <td>1965-11-19</td>\n",
       "      <td>58</td>\n",
       "    </tr>\n",
       "  </tbody>\n",
       "</table>\n",
       "</div>"
      ],
      "text/plain": [
       "   customerkey  gender               name            city state_code  \\\n",
       "0          301  Female      Lilly Harding  WANDEARAH EAST         SA   \n",
       "1          325  Female       Madison Hull      MOUNT BUDD         WA   \n",
       "2          554  Female      Claire Ferres       WINJALLOK        VIC   \n",
       "3          786    Male  Jai Poltpalingada    MIDDLE RIVER         SA   \n",
       "4         1042    Male    Aidan Pankhurst   TAWONGA SOUTH        VIC   \n",
       "\n",
       "               state zip_code    country  continent   birthday  age  \n",
       "0    South Australia     5523  Australia  Australia 1939-07-03   84  \n",
       "1  Western Australia     6522  Australia  Australia 1979-09-27   44  \n",
       "2           Victoria     3380  Australia  Australia 1947-05-26   76  \n",
       "3    South Australia     5223  Australia  Australia 1957-09-17   66  \n",
       "4           Victoria     3698  Australia  Australia 1965-11-19   58  "
      ]
     },
     "execution_count": 53,
     "metadata": {},
     "output_type": "execute_result"
    }
   ],
   "source": [
    "customers_df.head()"
   ]
  },
  {
   "cell_type": "code",
   "execution_count": 55,
   "metadata": {
    "colab": {
     "base_uri": "https://localhost:8080/"
    },
    "executionInfo": {
     "elapsed": 9,
     "status": "ok",
     "timestamp": 1738738376817,
     "user": {
      "displayName": "Nandhakumar Gajendran",
      "userId": "10811775384992849761"
     },
     "user_tz": -330
    },
    "id": "PjPDiSEqo-Pn",
    "outputId": "4d8a4f30-085f-463c-cf40-ec408a3f551b"
   },
   "outputs": [
    {
     "data": {
      "image/png": "[encoded data removed]",
      "text/plain": [
       "<Figure size 1000x600 with 1 Axes>"
      ]
     },
     "metadata": {},
     "output_type": "display_data"
    }
   ],
   "source": [
    "def age_group(age):\n",
    "    if age < 18:\n",
    "        return 'under 18'\n",
    "    elif 18 <= age <= 24:\n",
    "        return '18-24'\n",
    "    elif 25 <= age <= 34:\n",
    "        return '25-34'\n",
    "    elif 35 <= age <= 44:\n",
    "        return '35-44'\n",
    "    elif 45 <= age <= 54:\n",
    "        return '45-54'\n",
    "    elif 55 <= age <= 64:\n",
    "        return '55-64'\n",
    "    else:\n",
    "        return '65 and over'\n",
    "customers_df['age_group'] = customers_df['age'].apply(age_group)\n",
    "\n",
    "# Create count plot\n",
    "plt.figure(figsize=(10, 6))\n",
    "sns.countplot(x='age_group', data=customers_df, order=['under 18', '18-24', '25-34', '35-44', '45-54', '55-64', '65 and over'],hue = 'age_group')\n",
    "plt.title('Customer Age Group Distribution')\n",
    "plt.xlabel('Age Group')\n",
    "plt.ylabel('Count')\n",
    "plt.show()\n"
   ]
  },
  {
   "cell_type": "code",
   "execution_count": 57,
   "metadata": {
    "colab": {
     "base_uri": "https://localhost:8080/"
    },
    "executionInfo": {
     "elapsed": 1072,
     "status": "ok",
     "timestamp": 1738738377881,
     "user": {
      "displayName": "Nandhakumar Gajendran",
      "userId": "10811775384992849761"
     },
     "user_tz": -330
    },
    "id": "rm73Iag6Bup8",
    "outputId": "f81859dd-8830-49b6-86ef-2a4f62d17d3a"
   },
   "outputs": [
    {
     "data": {
      "text/plain": [
       "Text(0.5, 1.0, 'Counts as per Country')"
      ]
     },
     "execution_count": 57,
     "metadata": {},
     "output_type": "execute_result"
    }
   ],
   "source": [
    "# EDA for Customers data\n",
    "\n",
    "plt.figure(figsize=(12,5))\n",
    "sns.countplot(x= customers_df[\"country\"],data=customers_df,hue=\"country\")\n",
    "plt.xlabel(\"Country\")\n",
    "plt.ylabel(\"Counts\")\n",
    "plt.title(\"Counts as per Country\")"
   ]
  },
  {
   "cell_type": "code",
   "execution_count": 59,
   "metadata": {
    "colab": {
     "base_uri": "https://localhost:8080/"
    },
    "executionInfo": {
     "elapsed": 26,
     "status": "ok",
     "timestamp": 1738738377881,
     "user": {
      "displayName": "Nandhakumar Gajendran",
      "userId": "10811775384992849761"
     },
     "user_tz": -330
    },
    "id": "KTPg3Oor-YEN",
    "outputId": "622206e7-655c-413a-af53-e4fd3d18e403"
   },
   "outputs": [
    {
     "data": {
      "image/png": "[encoded data removed]",
      "text/plain": [
       "<Figure size 1200x500 with 1 Axes>"
      ]
     },
     "metadata": {},
     "output_type": "display_data"
    },
    {
     "data": {
      "image/png": "[encoded data removed]",
      "text/plain": [
       "<Figure size 400x400 with 1 Axes>"
      ]
     },
     "metadata": {},
     "output_type": "display_data"
    }
   ],
   "source": [
    "gender_counts = customers_df['gender'].value_counts()\n",
    "plt.figure(figsize=(4, 4))\n",
    "plt.pie(gender_counts, labels=gender_counts.index, autopct='%1.1f%%', startangle=90)\n",
    "plt.title('Customer Gender Distribution')\n",
    "plt.axis('equal')\n",
    "plt.show()"
   ]
  },
  {
   "cell_type": "code",
   "execution_count": 61,
   "metadata": {
    "colab": {
     "base_uri": "https://localhost:8080/"
    },
    "executionInfo": {
     "elapsed": 25,
     "status": "ok",
     "timestamp": 1738738377881,
     "user": {
      "displayName": "Nandhakumar Gajendran",
      "userId": "10811775384992849761"
     },
     "user_tz": -330
    },
    "id": "lrtrNN24-YBr",
    "outputId": "57f36b58-49dd-4233-81df-e3f430fd3207"
   },
   "outputs": [
    {
     "name": "stdout",
     "output_type": "stream",
     "text": [
      "gender\n",
      "Male      7748\n",
      "Female    7518\n",
      "Name: count, dtype: int64\n"
     ]
    },
    {
     "data": {
      "image/png": "[encoded data removed]",
      "text/plain": [
       "<Figure size 800x600 with 1 Axes>"
      ]
     },
     "metadata": {},
     "output_type": "display_data"
    }
   ],
   "source": [
    "print(customers_df.gender.value_counts())\n",
    "\n",
    "plt.figure(figsize=(8, 6))\n",
    "sns.countplot(x='gender', data=customers_df,hue='gender')\n",
    "plt.title('Customer Gender Distribution')\n",
    "plt.xlabel('Gender')\n",
    "plt.ylabel('Count')\n",
    "plt.show()"
   ]
  },
  {
   "cell_type": "code",
   "execution_count": 63,
   "metadata": {
    "id": "3PNBliNqgNvX"
   },
   "outputs": [],
   "source": [
    "customers_df.drop(['state_code','zip_code','birthday','age_group','name'], axis=1, inplace=True)"
   ]
  },
  {
   "cell_type": "code",
   "execution_count": 65,
   "metadata": {
    "colab": {
     "base_uri": "https://localhost:8080/"
    },
    "executionInfo": {
     "elapsed": 25,
     "status": "ok",
     "timestamp": 1738738377882,
     "user": {
      "displayName": "Nandhakumar Gajendran",
      "userId": "10811775384992849761"
     },
     "user_tz": -330
    },
    "id": "QyMSzxgIgVxP",
    "outputId": "3446618b-aa81-4af4-97ca-c12a0dd38425"
   },
   "outputs": [
    {
     "data": {
      "text/plain": [
       "customerkey    0\n",
       "gender         0\n",
       "city           0\n",
       "state          0\n",
       "country        0\n",
       "continent      0\n",
       "age            0\n",
       "dtype: int64"
      ]
     },
     "execution_count": 65,
     "metadata": {},
     "output_type": "execute_result"
    }
   ],
   "source": [
    "customers_df.isnull().sum()"
   ]
  },
  {
   "cell_type": "markdown",
   "metadata": {
    "id": "m6Ovb3i7CTAU"
   },
   "source": [
    "## Products Datasets"
   ]
  },
  {
   "cell_type": "code",
   "execution_count": 67,
   "metadata": {
    "colab": {
     "base_uri": "https://localhost:8080/"
    },
    "executionInfo": {
     "elapsed": 716,
     "status": "ok",
     "timestamp": 1738738378573,
     "user": {
      "displayName": "Nandhakumar Gajendran",
      "userId": "10811775384992849761"
     },
     "user_tz": -330
    },
    "id": "d4goV1Cw658G",
    "outputId": "a0aac6dd-eb39-48f5-eae8-1f066f8c95bd"
   },
   "outputs": [
    {
     "data": {
      "text/html": [
       "<div>\n",
       "<style scoped>\n",
       "    .dataframe tbody tr th:only-of-type {\n",
       "        vertical-align: middle;\n",
       "    }\n",
       "\n",
       "    .dataframe tbody tr th {\n",
       "        vertical-align: top;\n",
       "    }\n",
       "\n",
       "    .dataframe thead th {\n",
       "        text-align: right;\n",
       "    }\n",
       "</style>\n",
       "<table border=\"1\" class=\"dataframe\">\n",
       "  <thead>\n",
       "    <tr style=\"text-align: right;\">\n",
       "      <th></th>\n",
       "      <th>ProductKey</th>\n",
       "      <th>Product Name</th>\n",
       "      <th>Brand</th>\n",
       "      <th>Color</th>\n",
       "      <th>Unit Cost USD</th>\n",
       "      <th>Unit Price USD</th>\n",
       "      <th>SubcategoryKey</th>\n",
       "      <th>Subcategory</th>\n",
       "      <th>CategoryKey</th>\n",
       "      <th>Category</th>\n",
       "    </tr>\n",
       "  </thead>\n",
       "  <tbody>\n",
       "    <tr>\n",
       "      <th>0</th>\n",
       "      <td>1</td>\n",
       "      <td>Contoso 512MB MP3 Player E51 Silver</td>\n",
       "      <td>Contoso</td>\n",
       "      <td>Silver</td>\n",
       "      <td>$6.62</td>\n",
       "      <td>$12.99</td>\n",
       "      <td>101</td>\n",
       "      <td>MP4&amp;MP3</td>\n",
       "      <td>1</td>\n",
       "      <td>Audio</td>\n",
       "    </tr>\n",
       "    <tr>\n",
       "      <th>1</th>\n",
       "      <td>2</td>\n",
       "      <td>Contoso 512MB MP3 Player E51 Blue</td>\n",
       "      <td>Contoso</td>\n",
       "      <td>Blue</td>\n",
       "      <td>$6.62</td>\n",
       "      <td>$12.99</td>\n",
       "      <td>101</td>\n",
       "      <td>MP4&amp;MP3</td>\n",
       "      <td>1</td>\n",
       "      <td>Audio</td>\n",
       "    </tr>\n",
       "    <tr>\n",
       "      <th>2</th>\n",
       "      <td>3</td>\n",
       "      <td>Contoso 1G MP3 Player E100 White</td>\n",
       "      <td>Contoso</td>\n",
       "      <td>White</td>\n",
       "      <td>$7.40</td>\n",
       "      <td>$14.52</td>\n",
       "      <td>101</td>\n",
       "      <td>MP4&amp;MP3</td>\n",
       "      <td>1</td>\n",
       "      <td>Audio</td>\n",
       "    </tr>\n",
       "    <tr>\n",
       "      <th>3</th>\n",
       "      <td>4</td>\n",
       "      <td>Contoso 2G MP3 Player E200 Silver</td>\n",
       "      <td>Contoso</td>\n",
       "      <td>Silver</td>\n",
       "      <td>$11.00</td>\n",
       "      <td>$21.57</td>\n",
       "      <td>101</td>\n",
       "      <td>MP4&amp;MP3</td>\n",
       "      <td>1</td>\n",
       "      <td>Audio</td>\n",
       "    </tr>\n",
       "    <tr>\n",
       "      <th>4</th>\n",
       "      <td>5</td>\n",
       "      <td>Contoso 2G MP3 Player E200 Red</td>\n",
       "      <td>Contoso</td>\n",
       "      <td>Red</td>\n",
       "      <td>$11.00</td>\n",
       "      <td>$21.57</td>\n",
       "      <td>101</td>\n",
       "      <td>MP4&amp;MP3</td>\n",
       "      <td>1</td>\n",
       "      <td>Audio</td>\n",
       "    </tr>\n",
       "  </tbody>\n",
       "</table>\n",
       "</div>"
      ],
      "text/plain": [
       "   ProductKey                         Product Name    Brand   Color  \\\n",
       "0           1  Contoso 512MB MP3 Player E51 Silver  Contoso  Silver   \n",
       "1           2    Contoso 512MB MP3 Player E51 Blue  Contoso    Blue   \n",
       "2           3     Contoso 1G MP3 Player E100 White  Contoso   White   \n",
       "3           4    Contoso 2G MP3 Player E200 Silver  Contoso  Silver   \n",
       "4           5       Contoso 2G MP3 Player E200 Red  Contoso     Red   \n",
       "\n",
       "  Unit Cost USD Unit Price USD  SubcategoryKey Subcategory  CategoryKey  \\\n",
       "0        $6.62         $12.99              101     MP4&MP3            1   \n",
       "1        $6.62         $12.99              101     MP4&MP3            1   \n",
       "2        $7.40         $14.52              101     MP4&MP3            1   \n",
       "3       $11.00         $21.57              101     MP4&MP3            1   \n",
       "4       $11.00         $21.57              101     MP4&MP3            1   \n",
       "\n",
       "  Category  \n",
       "0    Audio  \n",
       "1    Audio  \n",
       "2    Audio  \n",
       "3    Audio  \n",
       "4    Audio  "
      ]
     },
     "execution_count": 67,
     "metadata": {},
     "output_type": "execute_result"
    }
   ],
   "source": [
    "products_df.head()"
   ]
  },
  {
   "cell_type": "code",
   "execution_count": 69,
   "metadata": {
    "id": "vtsz3I5i7C9N"
   },
   "outputs": [],
   "source": [
    "products_df.columns = products_df.columns.str.lower()\n",
    "products_df.columns = products_df.columns.str.replace(' ','_')"
   ]
  },
  {
   "cell_type": "code",
   "execution_count": 71,
   "metadata": {
    "colab": {
     "base_uri": "https://localhost:8080/"
    },
    "executionInfo": {
     "elapsed": 24,
     "status": "ok",
     "timestamp": 1738738378573,
     "user": {
      "displayName": "Nandhakumar Gajendran",
      "userId": "10811775384992849761"
     },
     "user_tz": -330
    },
    "id": "TpVIYcGz7FL5",
    "outputId": "a1f8f8ae-13c2-4bfc-b500-473c13491fc7"
   },
   "outputs": [
    {
     "data": {
      "text/plain": [
       "productkey        0\n",
       "product_name      0\n",
       "brand             0\n",
       "color             0\n",
       "unit_cost_usd     0\n",
       "unit_price_usd    0\n",
       "subcategorykey    0\n",
       "subcategory       0\n",
       "categorykey       0\n",
       "category          0\n",
       "dtype: int64"
      ]
     },
     "execution_count": 71,
     "metadata": {},
     "output_type": "execute_result"
    }
   ],
   "source": [
    "products_df.isnull().sum()"
   ]
  },
  {
   "cell_type": "code",
   "execution_count": 73,
   "metadata": {
    "colab": {
     "base_uri": "https://localhost:8080/"
    },
    "executionInfo": {
     "elapsed": 23,
     "status": "ok",
     "timestamp": 1738738378573,
     "user": {
      "displayName": "Nandhakumar Gajendran",
      "userId": "10811775384992849761"
     },
     "user_tz": -330
    },
    "id": "0hz9pEFRCbTw",
    "outputId": "4ccf771a-7358-4086-bb51-fcd3cad14f04"
   },
   "outputs": [
    {
     "name": "stdout",
     "output_type": "stream",
     "text": [
      "<class 'pandas.core.frame.DataFrame'>\n",
      "RangeIndex: 2517 entries, 0 to 2516\n",
      "Data columns (total 10 columns):\n",
      " #   Column          Non-Null Count  Dtype \n",
      "---  ------          --------------  ----- \n",
      " 0   productkey      2517 non-null   int64 \n",
      " 1   product_name    2517 non-null   object\n",
      " 2   brand           2517 non-null   object\n",
      " 3   color           2517 non-null   object\n",
      " 4   unit_cost_usd   2517 non-null   object\n",
      " 5   unit_price_usd  2517 non-null   object\n",
      " 6   subcategorykey  2517 non-null   int64 \n",
      " 7   subcategory     2517 non-null   object\n",
      " 8   categorykey     2517 non-null   int64 \n",
      " 9   category        2517 non-null   object\n",
      "dtypes: int64(3), object(7)\n",
      "memory usage: 196.8+ KB\n"
     ]
    }
   ],
   "source": [
    "products_df.info()"
   ]
  },
  {
   "cell_type": "code",
   "execution_count": 75,
   "metadata": {
    "colab": {
     "base_uri": "https://localhost:8080/"
    },
    "executionInfo": {
     "elapsed": 23,
     "status": "ok",
     "timestamp": 1738738378573,
     "user": {
      "displayName": "Nandhakumar Gajendran",
      "userId": "10811775384992849761"
     },
     "user_tz": -330
    },
    "id": "katS5f-PCbQM",
    "outputId": "3d0845e8-41fa-4c12-8d51-d5940e8287c4"
   },
   "outputs": [
    {
     "data": {
      "text/plain": [
       "productkey        0\n",
       "product_name      0\n",
       "brand             0\n",
       "color             0\n",
       "unit_cost_usd     0\n",
       "unit_price_usd    0\n",
       "subcategorykey    0\n",
       "subcategory       0\n",
       "categorykey       0\n",
       "category          0\n",
       "dtype: int64"
      ]
     },
     "execution_count": 75,
     "metadata": {},
     "output_type": "execute_result"
    }
   ],
   "source": [
    "products_df.isnull().sum()"
   ]
  },
  {
   "cell_type": "code",
   "execution_count": 77,
   "metadata": {
    "id": "y1yA1eC6CbNg"
   },
   "outputs": [],
   "source": [
    "products_df['unit_cost_usd'] = products_df['unit_cost_usd'].str.replace('$', '').str.replace(\",\", \"\").str.strip().astype(float)\n",
    "products_df['unit_price_usd'] = products_df['unit_price_usd'].str.replace('$', '').str.replace(\",\", \"\").str.strip().astype(float)"
   ]
  },
  {
   "cell_type": "code",
   "execution_count": 79,
   "metadata": {
    "colab": {
     "base_uri": "https://localhost:8080/"
    },
    "executionInfo": {
     "elapsed": 22,
     "status": "ok",
     "timestamp": 1738738378573,
     "user": {
      "displayName": "Nandhakumar Gajendran",
      "userId": "10811775384992849761"
     },
     "user_tz": -330
    },
    "id": "H6GCqh6NCbLC",
    "outputId": "d305e99b-6324-4939-e577-187194ddc039"
   },
   "outputs": [
    {
     "data": {
      "text/html": [
       "<div>\n",
       "<style scoped>\n",
       "    .dataframe tbody tr th:only-of-type {\n",
       "        vertical-align: middle;\n",
       "    }\n",
       "\n",
       "    .dataframe tbody tr th {\n",
       "        vertical-align: top;\n",
       "    }\n",
       "\n",
       "    .dataframe thead th {\n",
       "        text-align: right;\n",
       "    }\n",
       "</style>\n",
       "<table border=\"1\" class=\"dataframe\">\n",
       "  <thead>\n",
       "    <tr style=\"text-align: right;\">\n",
       "      <th></th>\n",
       "      <th>productkey</th>\n",
       "      <th>product_name</th>\n",
       "      <th>brand</th>\n",
       "      <th>color</th>\n",
       "      <th>unit_cost_usd</th>\n",
       "      <th>unit_price_usd</th>\n",
       "      <th>subcategorykey</th>\n",
       "      <th>subcategory</th>\n",
       "      <th>categorykey</th>\n",
       "      <th>category</th>\n",
       "    </tr>\n",
       "  </thead>\n",
       "  <tbody>\n",
       "    <tr>\n",
       "      <th>0</th>\n",
       "      <td>1</td>\n",
       "      <td>Contoso 512MB MP3 Player E51 Silver</td>\n",
       "      <td>Contoso</td>\n",
       "      <td>Silver</td>\n",
       "      <td>6.62</td>\n",
       "      <td>12.99</td>\n",
       "      <td>101</td>\n",
       "      <td>MP4&amp;MP3</td>\n",
       "      <td>1</td>\n",
       "      <td>Audio</td>\n",
       "    </tr>\n",
       "    <tr>\n",
       "      <th>1</th>\n",
       "      <td>2</td>\n",
       "      <td>Contoso 512MB MP3 Player E51 Blue</td>\n",
       "      <td>Contoso</td>\n",
       "      <td>Blue</td>\n",
       "      <td>6.62</td>\n",
       "      <td>12.99</td>\n",
       "      <td>101</td>\n",
       "      <td>MP4&amp;MP3</td>\n",
       "      <td>1</td>\n",
       "      <td>Audio</td>\n",
       "    </tr>\n",
       "    <tr>\n",
       "      <th>2</th>\n",
       "      <td>3</td>\n",
       "      <td>Contoso 1G MP3 Player E100 White</td>\n",
       "      <td>Contoso</td>\n",
       "      <td>White</td>\n",
       "      <td>7.40</td>\n",
       "      <td>14.52</td>\n",
       "      <td>101</td>\n",
       "      <td>MP4&amp;MP3</td>\n",
       "      <td>1</td>\n",
       "      <td>Audio</td>\n",
       "    </tr>\n",
       "    <tr>\n",
       "      <th>3</th>\n",
       "      <td>4</td>\n",
       "      <td>Contoso 2G MP3 Player E200 Silver</td>\n",
       "      <td>Contoso</td>\n",
       "      <td>Silver</td>\n",
       "      <td>11.00</td>\n",
       "      <td>21.57</td>\n",
       "      <td>101</td>\n",
       "      <td>MP4&amp;MP3</td>\n",
       "      <td>1</td>\n",
       "      <td>Audio</td>\n",
       "    </tr>\n",
       "    <tr>\n",
       "      <th>4</th>\n",
       "      <td>5</td>\n",
       "      <td>Contoso 2G MP3 Player E200 Red</td>\n",
       "      <td>Contoso</td>\n",
       "      <td>Red</td>\n",
       "      <td>11.00</td>\n",
       "      <td>21.57</td>\n",
       "      <td>101</td>\n",
       "      <td>MP4&amp;MP3</td>\n",
       "      <td>1</td>\n",
       "      <td>Audio</td>\n",
       "    </tr>\n",
       "  </tbody>\n",
       "</table>\n",
       "</div>"
      ],
      "text/plain": [
       "   productkey                         product_name    brand   color  \\\n",
       "0           1  Contoso 512MB MP3 Player E51 Silver  Contoso  Silver   \n",
       "1           2    Contoso 512MB MP3 Player E51 Blue  Contoso    Blue   \n",
       "2           3     Contoso 1G MP3 Player E100 White  Contoso   White   \n",
       "3           4    Contoso 2G MP3 Player E200 Silver  Contoso  Silver   \n",
       "4           5       Contoso 2G MP3 Player E200 Red  Contoso     Red   \n",
       "\n",
       "   unit_cost_usd  unit_price_usd  subcategorykey subcategory  categorykey  \\\n",
       "0           6.62           12.99             101     MP4&MP3            1   \n",
       "1           6.62           12.99             101     MP4&MP3            1   \n",
       "2           7.40           14.52             101     MP4&MP3            1   \n",
       "3          11.00           21.57             101     MP4&MP3            1   \n",
       "4          11.00           21.57             101     MP4&MP3            1   \n",
       "\n",
       "  category  \n",
       "0    Audio  \n",
       "1    Audio  \n",
       "2    Audio  \n",
       "3    Audio  \n",
       "4    Audio  "
      ]
     },
     "execution_count": 79,
     "metadata": {},
     "output_type": "execute_result"
    }
   ],
   "source": [
    "products_df.head()"
   ]
  },
  {
   "cell_type": "code",
   "execution_count": 81,
   "metadata": {
    "colab": {
     "base_uri": "https://localhost:8080/"
    },
    "executionInfo": {
     "elapsed": 21,
     "status": "ok",
     "timestamp": 1738738378573,
     "user": {
      "displayName": "Nandhakumar Gajendran",
      "userId": "10811775384992849761"
     },
     "user_tz": -330
    },
    "id": "Mnhj3XbvCbIh",
    "outputId": "07b79dbb-77fa-4ea4-f28d-0f90745da158"
   },
   "outputs": [
    {
     "data": {
      "text/plain": [
       "0"
      ]
     },
     "execution_count": 81,
     "metadata": {},
     "output_type": "execute_result"
    }
   ],
   "source": [
    "products_df.duplicated().sum()"
   ]
  },
  {
   "cell_type": "code",
   "execution_count": 83,
   "metadata": {
    "colab": {
     "base_uri": "https://localhost:8080/"
    },
    "executionInfo": {
     "elapsed": 21,
     "status": "ok",
     "timestamp": 1738738378573,
     "user": {
      "displayName": "Nandhakumar Gajendran",
      "userId": "10811775384992849761"
     },
     "user_tz": -330
    },
    "id": "xwj5v30fC2xK",
    "outputId": "4fede5ae-619c-4bdb-d52b-3c56a932aa33"
   },
   "outputs": [
    {
     "data": {
      "image/png": "[encoded data removed]",
      "text/plain": [
       "<Figure size 5000x800 with 1 Axes>"
      ]
     },
     "metadata": {},
     "output_type": "display_data"
    }
   ],
   "source": [
    "# EDA for products_df\n",
    "plt.figure(figsize=(50,8))\n",
    "plt.subplot(1,2,1)\n",
    "sns.countplot(x=products_df[\"brand\"],data=products_df,hue=\"brand\")\n",
    "plt.xlabel(\"Brand\")\n",
    "plt.ylabel(\"counts\")\n",
    "plt.title(\"counts as per Brand\")\n",
    "plt.show()"
   ]
  },
  {
   "cell_type": "code",
   "execution_count": null,
   "metadata": {
    "colab": {
     "base_uri": "https://localhost:8080/"
    },
    "executionInfo": {
     "elapsed": 856,
     "status": "ok",
     "timestamp": 1738738379408,
     "user": {
      "displayName": "Nandhakumar Gajendran",
      "userId": "10811775384992849761"
     },
     "user_tz": -330
    },
    "id": "B-csLj8QC2u4",
    "outputId": "213b0e1e-4c5d-46d1-ed60-997dab1966cc"
   },
   "outputs": [
    {
     "data": {
      "image/png": "[encoded data removed]",
      "text/plain": [
       "<Figure size 4000x800 with 1 Axes>"
      ]
     },
     "metadata": {},
     "output_type": "display_data"
    }
   ],
   "source": [
    "plt.figure(figsize=(40,8))\n",
    "plt.subplot(1,2,2)\n",
    "sns.countplot(x=products_df[\"category\"],data=products_df,hue=\"category\")\n",
    "plt.xlabel(\"Category\")\n",
    "plt.ylabel(\"counts\")\n",
    "plt.title(\"counts as per Category\")\n",
    "plt.show()"
   ]
  },
  {
   "cell_type": "markdown",
   "metadata": {
    "id": "E1ukm4IjFGns"
   },
   "source": [
    "## Store Dataset"
   ]
  },
  {
   "cell_type": "code",
   "execution_count": 85,
   "metadata": {
    "colab": {
     "base_uri": "https://localhost:8080/",
     "height": 206
    },
    "executionInfo": {
     "elapsed": 40,
     "status": "ok",
     "timestamp": 1738738379408,
     "user": {
      "displayName": "Nandhakumar Gajendran",
      "userId": "10811775384992849761"
     },
     "user_tz": -330
    },
    "id": "IuRN0sFS7IdY",
    "outputId": "e9ec7f79-a8c4-49bd-a758-9d9546d09ecd"
   },
   "outputs": [
    {
     "data": {
      "text/html": [
       "<div>\n",
       "<style scoped>\n",
       "    .dataframe tbody tr th:only-of-type {\n",
       "        vertical-align: middle;\n",
       "    }\n",
       "\n",
       "    .dataframe tbody tr th {\n",
       "        vertical-align: top;\n",
       "    }\n",
       "\n",
       "    .dataframe thead th {\n",
       "        text-align: right;\n",
       "    }\n",
       "</style>\n",
       "<table border=\"1\" class=\"dataframe\">\n",
       "  <thead>\n",
       "    <tr style=\"text-align: right;\">\n",
       "      <th></th>\n",
       "      <th>StoreKey</th>\n",
       "      <th>Country</th>\n",
       "      <th>State</th>\n",
       "      <th>Square Meters</th>\n",
       "      <th>Open Date</th>\n",
       "    </tr>\n",
       "  </thead>\n",
       "  <tbody>\n",
       "    <tr>\n",
       "      <th>0</th>\n",
       "      <td>1</td>\n",
       "      <td>Australia</td>\n",
       "      <td>Australian Capital Territory</td>\n",
       "      <td>595.0</td>\n",
       "      <td>1/1/2008</td>\n",
       "    </tr>\n",
       "    <tr>\n",
       "      <th>1</th>\n",
       "      <td>2</td>\n",
       "      <td>Australia</td>\n",
       "      <td>Northern Territory</td>\n",
       "      <td>665.0</td>\n",
       "      <td>1/12/2008</td>\n",
       "    </tr>\n",
       "    <tr>\n",
       "      <th>2</th>\n",
       "      <td>3</td>\n",
       "      <td>Australia</td>\n",
       "      <td>South Australia</td>\n",
       "      <td>2000.0</td>\n",
       "      <td>1/7/2012</td>\n",
       "    </tr>\n",
       "    <tr>\n",
       "      <th>3</th>\n",
       "      <td>4</td>\n",
       "      <td>Australia</td>\n",
       "      <td>Tasmania</td>\n",
       "      <td>2000.0</td>\n",
       "      <td>1/1/2010</td>\n",
       "    </tr>\n",
       "    <tr>\n",
       "      <th>4</th>\n",
       "      <td>5</td>\n",
       "      <td>Australia</td>\n",
       "      <td>Victoria</td>\n",
       "      <td>2000.0</td>\n",
       "      <td>12/9/2015</td>\n",
       "    </tr>\n",
       "  </tbody>\n",
       "</table>\n",
       "</div>"
      ],
      "text/plain": [
       "   StoreKey    Country                         State  Square Meters  Open Date\n",
       "0         1  Australia  Australian Capital Territory          595.0   1/1/2008\n",
       "1         2  Australia            Northern Territory          665.0  1/12/2008\n",
       "2         3  Australia               South Australia         2000.0   1/7/2012\n",
       "3         4  Australia                      Tasmania         2000.0   1/1/2010\n",
       "4         5  Australia                      Victoria         2000.0  12/9/2015"
      ]
     },
     "execution_count": 85,
     "metadata": {},
     "output_type": "execute_result"
    }
   ],
   "source": [
    "store_df.head()"
   ]
  },
  {
   "cell_type": "code",
   "execution_count": 87,
   "metadata": {
    "id": "LV1iDbhj7LtO"
   },
   "outputs": [],
   "source": [
    "store_df.columns = store_df.columns.str.lower()\n",
    "store_df.columns = store_df.columns.str.replace(' ','_')"
   ]
  },
  {
   "cell_type": "code",
   "execution_count": 89,
   "metadata": {
    "colab": {
     "base_uri": "https://localhost:8080/",
     "height": 241
    },
    "executionInfo": {
     "elapsed": 39,
     "status": "ok",
     "timestamp": 1738738379408,
     "user": {
      "displayName": "Nandhakumar Gajendran",
      "userId": "10811775384992849761"
     },
     "user_tz": -330
    },
    "id": "SpB4XFzw7N8Z",
    "outputId": "d669186b-5ab5-49e5-eef5-13ae34b63784"
   },
   "outputs": [
    {
     "data": {
      "text/plain": [
       "storekey         0\n",
       "country          0\n",
       "state            0\n",
       "square_meters    1\n",
       "open_date        0\n",
       "dtype: int64"
      ]
     },
     "execution_count": 89,
     "metadata": {},
     "output_type": "execute_result"
    }
   ],
   "source": [
    "store_df.isnull().sum()"
   ]
  },
  {
   "cell_type": "code",
   "execution_count": 91,
   "metadata": {
    "colab": {
     "base_uri": "https://localhost:8080/",
     "height": 89
    },
    "executionInfo": {
     "elapsed": 38,
     "status": "ok",
     "timestamp": 1738738379408,
     "user": {
      "displayName": "Nandhakumar Gajendran",
      "userId": "10811775384992849761"
     },
     "user_tz": -330
    },
    "id": "RCp_8_5VTXZg",
    "outputId": "c1123c8d-fb35-47f0-dd5a-05f1b72caa2c"
   },
   "outputs": [
    {
     "data": {
      "text/html": [
       "<div>\n",
       "<style scoped>\n",
       "    .dataframe tbody tr th:only-of-type {\n",
       "        vertical-align: middle;\n",
       "    }\n",
       "\n",
       "    .dataframe tbody tr th {\n",
       "        vertical-align: top;\n",
       "    }\n",
       "\n",
       "    .dataframe thead th {\n",
       "        text-align: right;\n",
       "    }\n",
       "</style>\n",
       "<table border=\"1\" class=\"dataframe\">\n",
       "  <thead>\n",
       "    <tr style=\"text-align: right;\">\n",
       "      <th></th>\n",
       "      <th>storekey</th>\n",
       "      <th>country</th>\n",
       "      <th>state</th>\n",
       "      <th>square_meters</th>\n",
       "      <th>open_date</th>\n",
       "    </tr>\n",
       "  </thead>\n",
       "  <tbody>\n",
       "    <tr>\n",
       "      <th>66</th>\n",
       "      <td>0</td>\n",
       "      <td>Online</td>\n",
       "      <td>Online</td>\n",
       "      <td>NaN</td>\n",
       "      <td>1/1/2010</td>\n",
       "    </tr>\n",
       "  </tbody>\n",
       "</table>\n",
       "</div>"
      ],
      "text/plain": [
       "    storekey country   state  square_meters open_date\n",
       "66         0  Online  Online            NaN  1/1/2010"
      ]
     },
     "execution_count": 91,
     "metadata": {},
     "output_type": "execute_result"
    }
   ],
   "source": [
    "# prompt: show me nan values in squaremeters\n",
    "\n",
    "import pandas as pd\n",
    "\n",
    "# Assuming 'store_df' is already loaded as in your provided code\n",
    "nan_square_meters = store_df[store_df['square_meters'].isnull()]\n",
    "nan_square_meters\n"
   ]
  },
  {
   "cell_type": "code",
   "execution_count": 93,
   "metadata": {
    "id": "kM2IvswVTZLI"
   },
   "outputs": [],
   "source": [
    "# prompt: fill that nan value with 0\n",
    "\n",
    "store_df['square_meters'].fillna(0, inplace=True)\n"
   ]
  },
  {
   "cell_type": "code",
   "execution_count": 95,
   "metadata": {
    "colab": {
     "base_uri": "https://localhost:8080/",
     "height": 241
    },
    "executionInfo": {
     "elapsed": 39,
     "status": "ok",
     "timestamp": 1738738379409,
     "user": {
      "displayName": "Nandhakumar Gajendran",
      "userId": "10811775384992849761"
     },
     "user_tz": -330
    },
    "id": "rs9wbhCRTjiX",
    "outputId": "e3f02a3a-4dae-4007-9545-66894efb355c"
   },
   "outputs": [
    {
     "data": {
      "text/plain": [
       "storekey         0\n",
       "country          0\n",
       "state            0\n",
       "square_meters    0\n",
       "open_date        0\n",
       "dtype: int64"
      ]
     },
     "execution_count": 95,
     "metadata": {},
     "output_type": "execute_result"
    }
   ],
   "source": [
    "store_df.isnull().sum()\n"
   ]
  },
  {
   "cell_type": "code",
   "execution_count": 97,
   "metadata": {
    "colab": {
     "base_uri": "https://localhost:8080/"
    },
    "executionInfo": {
     "elapsed": 38,
     "status": "ok",
     "timestamp": 1738738379409,
     "user": {
      "displayName": "Nandhakumar Gajendran",
      "userId": "10811775384992849761"
     },
     "user_tz": -330
    },
    "id": "NsZ9AD24E8iR",
    "outputId": "5a9067e4-f954-42e6-c9eb-0d80731a9e14"
   },
   "outputs": [
    {
     "name": "stdout",
     "output_type": "stream",
     "text": [
      "<class 'pandas.core.frame.DataFrame'>\n",
      "RangeIndex: 67 entries, 0 to 66\n",
      "Data columns (total 5 columns):\n",
      " #   Column         Non-Null Count  Dtype  \n",
      "---  ------         --------------  -----  \n",
      " 0   storekey       67 non-null     int64  \n",
      " 1   country        67 non-null     object \n",
      " 2   state          67 non-null     object \n",
      " 3   square_meters  67 non-null     float64\n",
      " 4   open_date      67 non-null     object \n",
      "dtypes: float64(1), int64(1), object(3)\n",
      "memory usage: 2.7+ KB\n"
     ]
    }
   ],
   "source": [
    "store_df.info()"
   ]
  },
  {
   "cell_type": "code",
   "execution_count": 99,
   "metadata": {
    "id": "lu8uRkmKE8fp"
   },
   "outputs": [],
   "source": [
    "# Convert 'Open Date' to datetime objects\n",
    "store_df['open_date'] = pd.to_datetime(store_df['open_date'])"
   ]
  },
  {
   "cell_type": "code",
   "execution_count": 101,
   "metadata": {
    "colab": {
     "base_uri": "https://localhost:8080/",
     "height": 424
    },
    "executionInfo": {
     "elapsed": 38,
     "status": "ok",
     "timestamp": 1738738379409,
     "user": {
      "displayName": "Nandhakumar Gajendran",
      "userId": "10811775384992849761"
     },
     "user_tz": -330
    },
    "id": "SaHqKAheE8dS",
    "outputId": "876e8927-7f5e-429a-e88f-67b51ac55d06"
   },
   "outputs": [
    {
     "data": {
      "text/html": [
       "<div>\n",
       "<style scoped>\n",
       "    .dataframe tbody tr th:only-of-type {\n",
       "        vertical-align: middle;\n",
       "    }\n",
       "\n",
       "    .dataframe tbody tr th {\n",
       "        vertical-align: top;\n",
       "    }\n",
       "\n",
       "    .dataframe thead th {\n",
       "        text-align: right;\n",
       "    }\n",
       "</style>\n",
       "<table border=\"1\" class=\"dataframe\">\n",
       "  <thead>\n",
       "    <tr style=\"text-align: right;\">\n",
       "      <th></th>\n",
       "      <th>storekey</th>\n",
       "      <th>country</th>\n",
       "      <th>state</th>\n",
       "      <th>square_meters</th>\n",
       "      <th>open_date</th>\n",
       "    </tr>\n",
       "  </thead>\n",
       "  <tbody>\n",
       "    <tr>\n",
       "      <th>0</th>\n",
       "      <td>1</td>\n",
       "      <td>Australia</td>\n",
       "      <td>Australian Capital Territory</td>\n",
       "      <td>595.0</td>\n",
       "      <td>2008-01-01</td>\n",
       "    </tr>\n",
       "    <tr>\n",
       "      <th>1</th>\n",
       "      <td>2</td>\n",
       "      <td>Australia</td>\n",
       "      <td>Northern Territory</td>\n",
       "      <td>665.0</td>\n",
       "      <td>2008-01-12</td>\n",
       "    </tr>\n",
       "    <tr>\n",
       "      <th>2</th>\n",
       "      <td>3</td>\n",
       "      <td>Australia</td>\n",
       "      <td>South Australia</td>\n",
       "      <td>2000.0</td>\n",
       "      <td>2012-01-07</td>\n",
       "    </tr>\n",
       "    <tr>\n",
       "      <th>3</th>\n",
       "      <td>4</td>\n",
       "      <td>Australia</td>\n",
       "      <td>Tasmania</td>\n",
       "      <td>2000.0</td>\n",
       "      <td>2010-01-01</td>\n",
       "    </tr>\n",
       "    <tr>\n",
       "      <th>4</th>\n",
       "      <td>5</td>\n",
       "      <td>Australia</td>\n",
       "      <td>Victoria</td>\n",
       "      <td>2000.0</td>\n",
       "      <td>2015-12-09</td>\n",
       "    </tr>\n",
       "    <tr>\n",
       "      <th>...</th>\n",
       "      <td>...</td>\n",
       "      <td>...</td>\n",
       "      <td>...</td>\n",
       "      <td>...</td>\n",
       "      <td>...</td>\n",
       "    </tr>\n",
       "    <tr>\n",
       "      <th>62</th>\n",
       "      <td>63</td>\n",
       "      <td>United States</td>\n",
       "      <td>Utah</td>\n",
       "      <td>2000.0</td>\n",
       "      <td>2008-03-06</td>\n",
       "    </tr>\n",
       "    <tr>\n",
       "      <th>63</th>\n",
       "      <td>64</td>\n",
       "      <td>United States</td>\n",
       "      <td>Washington DC</td>\n",
       "      <td>1330.0</td>\n",
       "      <td>2010-01-01</td>\n",
       "    </tr>\n",
       "    <tr>\n",
       "      <th>64</th>\n",
       "      <td>65</td>\n",
       "      <td>United States</td>\n",
       "      <td>West Virginia</td>\n",
       "      <td>1785.0</td>\n",
       "      <td>2012-01-01</td>\n",
       "    </tr>\n",
       "    <tr>\n",
       "      <th>65</th>\n",
       "      <td>66</td>\n",
       "      <td>United States</td>\n",
       "      <td>Wyoming</td>\n",
       "      <td>840.0</td>\n",
       "      <td>2014-01-01</td>\n",
       "    </tr>\n",
       "    <tr>\n",
       "      <th>66</th>\n",
       "      <td>0</td>\n",
       "      <td>Online</td>\n",
       "      <td>Online</td>\n",
       "      <td>0.0</td>\n",
       "      <td>2010-01-01</td>\n",
       "    </tr>\n",
       "  </tbody>\n",
       "</table>\n",
       "<p>67 rows × 5 columns</p>\n",
       "</div>"
      ],
      "text/plain": [
       "    storekey        country                         state  square_meters  \\\n",
       "0          1      Australia  Australian Capital Territory          595.0   \n",
       "1          2      Australia            Northern Territory          665.0   \n",
       "2          3      Australia               South Australia         2000.0   \n",
       "3          4      Australia                      Tasmania         2000.0   \n",
       "4          5      Australia                      Victoria         2000.0   \n",
       "..       ...            ...                           ...            ...   \n",
       "62        63  United States                          Utah         2000.0   \n",
       "63        64  United States                 Washington DC         1330.0   \n",
       "64        65  United States                 West Virginia         1785.0   \n",
       "65        66  United States                       Wyoming          840.0   \n",
       "66         0         Online                        Online            0.0   \n",
       "\n",
       "    open_date  \n",
       "0  2008-01-01  \n",
       "1  2008-01-12  \n",
       "2  2012-01-07  \n",
       "3  2010-01-01  \n",
       "4  2015-12-09  \n",
       "..        ...  \n",
       "62 2008-03-06  \n",
       "63 2010-01-01  \n",
       "64 2012-01-01  \n",
       "65 2014-01-01  \n",
       "66 2010-01-01  \n",
       "\n",
       "[67 rows x 5 columns]"
      ]
     },
     "execution_count": 101,
     "metadata": {},
     "output_type": "execute_result"
    }
   ],
   "source": [
    "store_df.fillna(0)"
   ]
  },
  {
   "cell_type": "code",
   "execution_count": 103,
   "metadata": {
    "colab": {
     "base_uri": "https://localhost:8080/"
    },
    "executionInfo": {
     "elapsed": 37,
     "status": "ok",
     "timestamp": 1738738379409,
     "user": {
      "displayName": "Nandhakumar Gajendran",
      "userId": "10811775384992849761"
     },
     "user_tz": -330
    },
    "id": "pviyWsubE8a4",
    "outputId": "ff9841b9-ee4b-4a42-f685-d4b5207e9c8a"
   },
   "outputs": [
    {
     "data": {
      "text/plain": [
       "0"
      ]
     },
     "execution_count": 103,
     "metadata": {},
     "output_type": "execute_result"
    }
   ],
   "source": [
    "store_df.duplicated().sum()"
   ]
  },
  {
   "cell_type": "code",
   "execution_count": 105,
   "metadata": {
    "colab": {
     "base_uri": "https://localhost:8080/",
     "height": 527
    },
    "executionInfo": {
     "elapsed": 528,
     "status": "ok",
     "timestamp": 1738738379900,
     "user": {
      "displayName": "Nandhakumar Gajendran",
      "userId": "10811775384992849761"
     },
     "user_tz": -330
    },
    "id": "juYdyHNaI58M",
    "outputId": "d53596ef-0047-482a-dd1e-bc39839a882a"
   },
   "outputs": [
    {
     "data": {
      "image/png": "[encoded data removed]",
      "text/plain": [
       "<Figure size 1500x600 with 1 Axes>"
      ]
     },
     "metadata": {},
     "output_type": "display_data"
    }
   ],
   "source": [
    "# EDA for store_df based on store counts and country\n",
    "plt.figure(figsize=(15, 6))\n",
    "sns.countplot(x='country', data=store_df, hue='country')\n",
    "plt.title('Number of Stores per Country')\n",
    "plt.xlabel('Country')\n",
    "plt.ylabel('Number of Stores')\n",
    "plt.show()\n",
    "\n",
    "# Calculate the number of stores per country\n",
    "store_counts = store_df['country'].value_counts().reset_index()\n",
    "store_counts.columns = ['country', 'storescount']  # Rename columns"
   ]
  },
  {
   "cell_type": "code",
   "execution_count": 107,
   "metadata": {
    "colab": {
     "base_uri": "https://localhost:8080/",
     "height": 564
    },
    "executionInfo": {
     "elapsed": 638,
     "status": "ok",
     "timestamp": 1738738380536,
     "user": {
      "displayName": "Nandhakumar Gajendran",
      "userId": "10811775384992849761"
     },
     "user_tz": -330
    },
    "id": "ZmWsfNEFI55u",
    "outputId": "27e7cb78-9ec7-4768-e8d6-84145e41c2df"
   },
   "outputs": [
    {
     "data": {
      "image/png": "[encoded data removed]",
      "text/plain": [
       "<Figure size 800x600 with 1 Axes>"
      ]
     },
     "metadata": {},
     "output_type": "display_data"
    }
   ],
   "source": [
    "# Histogram of Square Meter\n",
    "plt.figure(figsize=(8, 6))\n",
    "sns.histplot(store_df['square_meters'], bins=10, kde=True)  # Adjust bins as needed\n",
    "plt.title('Distribution of Store Square Meters')\n",
    "plt.xlabel('Square Meters')\n",
    "plt.ylabel('Frequency')\n",
    "plt.show()\n"
   ]
  },
  {
   "cell_type": "markdown",
   "metadata": {
    "id": "cV1JJTQFGjyM"
   },
   "source": [
    "## Exchange_Rates"
   ]
  },
  {
   "cell_type": "code",
   "execution_count": 109,
   "metadata": {
    "colab": {
     "base_uri": "https://localhost:8080/",
     "height": 206
    },
    "executionInfo": {
     "elapsed": 13,
     "status": "ok",
     "timestamp": 1738738380536,
     "user": {
      "displayName": "Nandhakumar Gajendran",
      "userId": "10811775384992849761"
     },
     "user_tz": -330
    },
    "id": "fGmpWKMyGgGE",
    "outputId": "6b308097-85aa-43da-a7c4-9481313a801d"
   },
   "outputs": [
    {
     "data": {
      "text/html": [
       "<div>\n",
       "<style scoped>\n",
       "    .dataframe tbody tr th:only-of-type {\n",
       "        vertical-align: middle;\n",
       "    }\n",
       "\n",
       "    .dataframe tbody tr th {\n",
       "        vertical-align: top;\n",
       "    }\n",
       "\n",
       "    .dataframe thead th {\n",
       "        text-align: right;\n",
       "    }\n",
       "</style>\n",
       "<table border=\"1\" class=\"dataframe\">\n",
       "  <thead>\n",
       "    <tr style=\"text-align: right;\">\n",
       "      <th></th>\n",
       "      <th>Date</th>\n",
       "      <th>Currency</th>\n",
       "      <th>Exchange</th>\n",
       "    </tr>\n",
       "  </thead>\n",
       "  <tbody>\n",
       "    <tr>\n",
       "      <th>0</th>\n",
       "      <td>1/1/2015</td>\n",
       "      <td>USD</td>\n",
       "      <td>1.0000</td>\n",
       "    </tr>\n",
       "    <tr>\n",
       "      <th>1</th>\n",
       "      <td>1/1/2015</td>\n",
       "      <td>CAD</td>\n",
       "      <td>1.1583</td>\n",
       "    </tr>\n",
       "    <tr>\n",
       "      <th>2</th>\n",
       "      <td>1/1/2015</td>\n",
       "      <td>AUD</td>\n",
       "      <td>1.2214</td>\n",
       "    </tr>\n",
       "    <tr>\n",
       "      <th>3</th>\n",
       "      <td>1/1/2015</td>\n",
       "      <td>EUR</td>\n",
       "      <td>0.8237</td>\n",
       "    </tr>\n",
       "    <tr>\n",
       "      <th>4</th>\n",
       "      <td>1/1/2015</td>\n",
       "      <td>GBP</td>\n",
       "      <td>0.6415</td>\n",
       "    </tr>\n",
       "  </tbody>\n",
       "</table>\n",
       "</div>"
      ],
      "text/plain": [
       "       Date Currency  Exchange\n",
       "0  1/1/2015      USD    1.0000\n",
       "1  1/1/2015      CAD    1.1583\n",
       "2  1/1/2015      AUD    1.2214\n",
       "3  1/1/2015      EUR    0.8237\n",
       "4  1/1/2015      GBP    0.6415"
      ]
     },
     "execution_count": 109,
     "metadata": {},
     "output_type": "execute_result"
    }
   ],
   "source": [
    "exchange_rates_df.head()"
   ]
  },
  {
   "cell_type": "code",
   "execution_count": 111,
   "metadata": {
    "id": "HYJwdAmWHAyV"
   },
   "outputs": [],
   "source": [
    "exchange_rates_df.columns = exchange_rates_df.columns.str.lower()\n",
    "exchange_rates_df.columns = exchange_rates_df.columns.str.replace(' ','_')"
   ]
  },
  {
   "cell_type": "code",
   "execution_count": 113,
   "metadata": {
    "colab": {
     "base_uri": "https://localhost:8080/",
     "height": 178
    },
    "executionInfo": {
     "elapsed": 12,
     "status": "ok",
     "timestamp": 1738738380536,
     "user": {
      "displayName": "Nandhakumar Gajendran",
      "userId": "10811775384992849761"
     },
     "user_tz": -330
    },
    "id": "UA3ZfQnoGf_t",
    "outputId": "f924b150-8023-4ec4-e552-eabd6054fea8"
   },
   "outputs": [
    {
     "data": {
      "text/plain": [
       "date        0\n",
       "currency    0\n",
       "exchange    0\n",
       "dtype: int64"
      ]
     },
     "execution_count": 113,
     "metadata": {},
     "output_type": "execute_result"
    }
   ],
   "source": [
    "exchange_rates_df.isnull().sum()"
   ]
  },
  {
   "cell_type": "code",
   "execution_count": 115,
   "metadata": {
    "colab": {
     "base_uri": "https://localhost:8080/"
    },
    "executionInfo": {
     "elapsed": 11,
     "status": "ok",
     "timestamp": 1738738380536,
     "user": {
      "displayName": "Nandhakumar Gajendran",
      "userId": "10811775384992849761"
     },
     "user_tz": -330
    },
    "id": "ecslogFP4LDT",
    "outputId": "8bb57452-548c-4782-bbfb-901511899e40"
   },
   "outputs": [
    {
     "data": {
      "text/plain": [
       "(11215, 3)"
      ]
     },
     "execution_count": 115,
     "metadata": {},
     "output_type": "execute_result"
    }
   ],
   "source": [
    "exchange_rates_df.shape"
   ]
  },
  {
   "cell_type": "code",
   "execution_count": 117,
   "metadata": {
    "id": "HIFu2YxQGf9e"
   },
   "outputs": [],
   "source": [
    "exchange_rates_df['date'] = pd.to_datetime(exchange_rates_df['date'])"
   ]
  },
  {
   "cell_type": "code",
   "execution_count": 119,
   "metadata": {
    "colab": {
     "base_uri": "https://localhost:8080/",
     "height": 564
    },
    "executionInfo": {
     "elapsed": 714,
     "status": "ok",
     "timestamp": 1738738381239,
     "user": {
      "displayName": "Nandhakumar Gajendran",
      "userId": "10811775384992849761"
     },
     "user_tz": -330
    },
    "id": "Utj3t23lGf0t",
    "outputId": "90ee6509-f8a9-4410-bb1e-26f8e79862ac"
   },
   "outputs": [
    {
     "data": {
      "image/png": "[encoded data removed]",
      "text/plain": [
       "<Figure size 1000x600 with 1 Axes>"
      ]
     },
     "metadata": {},
     "output_type": "display_data"
    }
   ],
   "source": [
    "# Visualize the distribution of 'Exchange' rates\n",
    "plt.figure(figsize=(10, 6))\n",
    "sns.histplot(exchange_rates_df['exchange'], bins=20, kde=True)\n",
    "plt.title('Distribution of Exchange Rates')\n",
    "plt.xlabel('Exchange Rate')\n",
    "plt.ylabel('Frequency')\n",
    "plt.show()"
   ]
  },
  {
   "cell_type": "markdown",
   "metadata": {
    "id": "nTITSTZbeuYY"
   },
   "source": [
    "# Storing it as Cleaned dataset"
   ]
  },
  {
   "cell_type": "code",
   "execution_count": 121,
   "metadata": {
    "colab": {
     "base_uri": "https://localhost:8080/",
     "height": 206
    },
    "executionInfo": {
     "elapsed": 438,
     "status": "ok",
     "timestamp": 1738674419272,
     "user": {
      "displayName": "Nandhakumar Gajendran",
      "userId": "10811775384992849761"
     },
     "user_tz": -330
    },
    "id": "SjSW_yAPh9B3",
    "outputId": "7cfd1b56-1492-4670-bc63-ef2d3047b77b"
   },
   "outputs": [
    {
     "data": {
      "text/html": [
       "<div>\n",
       "<style scoped>\n",
       "    .dataframe tbody tr th:only-of-type {\n",
       "        vertical-align: middle;\n",
       "    }\n",
       "\n",
       "    .dataframe tbody tr th {\n",
       "        vertical-align: top;\n",
       "    }\n",
       "\n",
       "    .dataframe thead th {\n",
       "        text-align: right;\n",
       "    }\n",
       "</style>\n",
       "<table border=\"1\" class=\"dataframe\">\n",
       "  <thead>\n",
       "    <tr style=\"text-align: right;\">\n",
       "      <th></th>\n",
       "      <th>productkey</th>\n",
       "      <th>product_name</th>\n",
       "      <th>brand</th>\n",
       "      <th>color</th>\n",
       "      <th>unit_cost_usd</th>\n",
       "      <th>unit_price_usd</th>\n",
       "      <th>subcategorykey</th>\n",
       "      <th>subcategory</th>\n",
       "      <th>categorykey</th>\n",
       "      <th>category</th>\n",
       "    </tr>\n",
       "  </thead>\n",
       "  <tbody>\n",
       "    <tr>\n",
       "      <th>0</th>\n",
       "      <td>1</td>\n",
       "      <td>Contoso 512MB MP3 Player E51 Silver</td>\n",
       "      <td>Contoso</td>\n",
       "      <td>Silver</td>\n",
       "      <td>6.62</td>\n",
       "      <td>12.99</td>\n",
       "      <td>101</td>\n",
       "      <td>MP4&amp;MP3</td>\n",
       "      <td>1</td>\n",
       "      <td>Audio</td>\n",
       "    </tr>\n",
       "    <tr>\n",
       "      <th>1</th>\n",
       "      <td>2</td>\n",
       "      <td>Contoso 512MB MP3 Player E51 Blue</td>\n",
       "      <td>Contoso</td>\n",
       "      <td>Blue</td>\n",
       "      <td>6.62</td>\n",
       "      <td>12.99</td>\n",
       "      <td>101</td>\n",
       "      <td>MP4&amp;MP3</td>\n",
       "      <td>1</td>\n",
       "      <td>Audio</td>\n",
       "    </tr>\n",
       "    <tr>\n",
       "      <th>2</th>\n",
       "      <td>3</td>\n",
       "      <td>Contoso 1G MP3 Player E100 White</td>\n",
       "      <td>Contoso</td>\n",
       "      <td>White</td>\n",
       "      <td>7.40</td>\n",
       "      <td>14.52</td>\n",
       "      <td>101</td>\n",
       "      <td>MP4&amp;MP3</td>\n",
       "      <td>1</td>\n",
       "      <td>Audio</td>\n",
       "    </tr>\n",
       "    <tr>\n",
       "      <th>3</th>\n",
       "      <td>4</td>\n",
       "      <td>Contoso 2G MP3 Player E200 Silver</td>\n",
       "      <td>Contoso</td>\n",
       "      <td>Silver</td>\n",
       "      <td>11.00</td>\n",
       "      <td>21.57</td>\n",
       "      <td>101</td>\n",
       "      <td>MP4&amp;MP3</td>\n",
       "      <td>1</td>\n",
       "      <td>Audio</td>\n",
       "    </tr>\n",
       "    <tr>\n",
       "      <th>4</th>\n",
       "      <td>5</td>\n",
       "      <td>Contoso 2G MP3 Player E200 Red</td>\n",
       "      <td>Contoso</td>\n",
       "      <td>Red</td>\n",
       "      <td>11.00</td>\n",
       "      <td>21.57</td>\n",
       "      <td>101</td>\n",
       "      <td>MP4&amp;MP3</td>\n",
       "      <td>1</td>\n",
       "      <td>Audio</td>\n",
       "    </tr>\n",
       "  </tbody>\n",
       "</table>\n",
       "</div>"
      ],
      "text/plain": [
       "   productkey                         product_name    brand   color  \\\n",
       "0           1  Contoso 512MB MP3 Player E51 Silver  Contoso  Silver   \n",
       "1           2    Contoso 512MB MP3 Player E51 Blue  Contoso    Blue   \n",
       "2           3     Contoso 1G MP3 Player E100 White  Contoso   White   \n",
       "3           4    Contoso 2G MP3 Player E200 Silver  Contoso  Silver   \n",
       "4           5       Contoso 2G MP3 Player E200 Red  Contoso     Red   \n",
       "\n",
       "   unit_cost_usd  unit_price_usd  subcategorykey subcategory  categorykey  \\\n",
       "0           6.62           12.99             101     MP4&MP3            1   \n",
       "1           6.62           12.99             101     MP4&MP3            1   \n",
       "2           7.40           14.52             101     MP4&MP3            1   \n",
       "3          11.00           21.57             101     MP4&MP3            1   \n",
       "4          11.00           21.57             101     MP4&MP3            1   \n",
       "\n",
       "  category  \n",
       "0    Audio  \n",
       "1    Audio  \n",
       "2    Audio  \n",
       "3    Audio  \n",
       "4    Audio  "
      ]
     },
     "execution_count": 121,
     "metadata": {},
     "output_type": "execute_result"
    }
   ],
   "source": [
    "products_df.head()"
   ]
  },
  {
   "cell_type": "code",
   "execution_count": 127,
   "metadata": {
    "id": "6dwuvDvyemxj"
   },
   "outputs": [],
   "source": [
    "customers_df.to_csv(r'C:\\Users\\Bhuvanesh\\Desktop\\Yogesh Guvi\\Data Spark Project\\Data Set\\Cleaned\\Cleaned_Customers.csv', index=False)\n",
    "sales_df.to_csv(r'C:\\Users\\Bhuvanesh\\Desktop\\Yogesh Guvi\\Data Spark Project\\Data Set\\Cleaned\\Cleaned_Sales.csv', index=False)\n",
    "products_df.to_csv(r'C:\\Users\\Bhuvanesh\\Desktop\\Yogesh Guvi\\Data Spark Project\\Data Set\\Cleaned\\Cleaned_Products.csv', index=False)\n",
    "store_df.to_csv(r'C:\\Users\\Bhuvanesh\\Desktop\\Yogesh Guvi\\Data Spark Project\\Data Set\\Cleaned\\Cleaned_Stores.csv', index=False)\n",
    "exchange_rates_df.to_csv(r'C:\\Users\\Bhuvanesh\\Desktop\\Yogesh Guvi\\Data Spark Project\\Data Set\\Cleaned\\Cleaned_Exchange_Rates.csv', index=False)"
   ]
  },
  {
   "cell_type": "markdown",
   "metadata": {
    "id": "VhHZPwPkPVgM"
   },
   "source": [
    "# Merging All the Cleaned Dataset"
   ]
  },
  {
   "cell_type": "code",
   "execution_count": 129,
   "metadata": {
    "id": "dCr4-sq2E8Tp"
   },
   "outputs": [],
   "source": [
    "merged_df = pd.merge(sales_df, customers_df, on='customerkey', how='left')\n"
   ]
  },
  {
   "cell_type": "code",
   "execution_count": 131,
   "metadata": {
    "id": "WL3BUmAr4qnP"
   },
   "outputs": [],
   "source": [
    "merged_df= pd.merge(merged_df, products_df, on='productkey', how='left')"
   ]
  },
  {
   "cell_type": "code",
   "execution_count": 133,
   "metadata": {
    "id": "jtyKWIA04w2y"
   },
   "outputs": [],
   "source": [
    "merged_df = pd.merge(merged_df, store_df, on='storekey', how='left')"
   ]
  },
  {
   "cell_type": "code",
   "execution_count": 135,
   "metadata": {
    "id": "YR7qalbS4yc_"
   },
   "outputs": [],
   "source": [
    "merged_df = pd.merge(merged_df,exchange_rates_df,left_on=['order_date', 'currency_code'],right_on=['date', 'currency'],how='left')"
   ]
  },
  {
   "cell_type": "code",
   "execution_count": 137,
   "metadata": {
    "colab": {
     "base_uri": "https://localhost:8080/",
     "height": 877
    },
    "executionInfo": {
     "elapsed": 413,
     "status": "ok",
     "timestamp": 1738739271715,
     "user": {
      "displayName": "Nandhakumar Gajendran",
      "userId": "10811775384992849761"
     },
     "user_tz": -330
    },
    "id": "neX6F1FgIUHO",
    "outputId": "d3ed3ed1-d740-4434-a673-4045015a5e5a"
   },
   "outputs": [
    {
     "data": {
      "text/html": [
       "<div>\n",
       "<style scoped>\n",
       "    .dataframe tbody tr th:only-of-type {\n",
       "        vertical-align: middle;\n",
       "    }\n",
       "\n",
       "    .dataframe tbody tr th {\n",
       "        vertical-align: top;\n",
       "    }\n",
       "\n",
       "    .dataframe thead th {\n",
       "        text-align: right;\n",
       "    }\n",
       "</style>\n",
       "<table border=\"1\" class=\"dataframe\">\n",
       "  <thead>\n",
       "    <tr style=\"text-align: right;\">\n",
       "      <th></th>\n",
       "      <th>order_number</th>\n",
       "      <th>line_item</th>\n",
       "      <th>order_date</th>\n",
       "      <th>customerkey</th>\n",
       "      <th>storekey</th>\n",
       "      <th>productkey</th>\n",
       "      <th>quantity</th>\n",
       "      <th>currency_code</th>\n",
       "      <th>gender</th>\n",
       "      <th>city</th>\n",
       "      <th>state_x</th>\n",
       "      <th>country_x</th>\n",
       "      <th>continent</th>\n",
       "      <th>age</th>\n",
       "      <th>product_name</th>\n",
       "      <th>brand</th>\n",
       "      <th>color</th>\n",
       "      <th>unit_cost_usd</th>\n",
       "      <th>unit_price_usd</th>\n",
       "      <th>subcategorykey</th>\n",
       "      <th>subcategory</th>\n",
       "      <th>categorykey</th>\n",
       "      <th>category</th>\n",
       "      <th>country_y</th>\n",
       "      <th>state_y</th>\n",
       "      <th>square_meters</th>\n",
       "      <th>open_date</th>\n",
       "      <th>date</th>\n",
       "      <th>currency</th>\n",
       "      <th>exchange</th>\n",
       "    </tr>\n",
       "  </thead>\n",
       "  <tbody>\n",
       "    <tr>\n",
       "      <th>0</th>\n",
       "      <td>366000</td>\n",
       "      <td>1</td>\n",
       "      <td>2016-01-01</td>\n",
       "      <td>265598</td>\n",
       "      <td>10</td>\n",
       "      <td>1304</td>\n",
       "      <td>1</td>\n",
       "      <td>CAD</td>\n",
       "      <td>Male</td>\n",
       "      <td>London</td>\n",
       "      <td>Ontario</td>\n",
       "      <td>Canada</td>\n",
       "      <td>North America</td>\n",
       "      <td>52</td>\n",
       "      <td>Contoso Lens Adapter M450 White</td>\n",
       "      <td>Contoso</td>\n",
       "      <td>White</td>\n",
       "      <td>31.27</td>\n",
       "      <td>68.00</td>\n",
       "      <td>406</td>\n",
       "      <td>Cameras &amp; Camcorders Accessories</td>\n",
       "      <td>4</td>\n",
       "      <td>Cameras and camcorders</td>\n",
       "      <td>Canada</td>\n",
       "      <td>Nunavut</td>\n",
       "      <td>1210.0</td>\n",
       "      <td>2015-04-04</td>\n",
       "      <td>2016-01-01</td>\n",
       "      <td>CAD</td>\n",
       "      <td>1.3884</td>\n",
       "    </tr>\n",
       "    <tr>\n",
       "      <th>1</th>\n",
       "      <td>366001</td>\n",
       "      <td>1</td>\n",
       "      <td>2016-01-01</td>\n",
       "      <td>1269051</td>\n",
       "      <td>0</td>\n",
       "      <td>1048</td>\n",
       "      <td>2</td>\n",
       "      <td>USD</td>\n",
       "      <td>Male</td>\n",
       "      <td>Auberry</td>\n",
       "      <td>California</td>\n",
       "      <td>United States</td>\n",
       "      <td>North America</td>\n",
       "      <td>28</td>\n",
       "      <td>A. Datum SLR Camera X136 Silver</td>\n",
       "      <td>A. Datum</td>\n",
       "      <td>Silver</td>\n",
       "      <td>141.47</td>\n",
       "      <td>427.00</td>\n",
       "      <td>402</td>\n",
       "      <td>Digital SLR Cameras</td>\n",
       "      <td>4</td>\n",
       "      <td>Cameras and camcorders</td>\n",
       "      <td>Online</td>\n",
       "      <td>Online</td>\n",
       "      <td>0.0</td>\n",
       "      <td>2010-01-01</td>\n",
       "      <td>2016-01-01</td>\n",
       "      <td>USD</td>\n",
       "      <td>1.0000</td>\n",
       "    </tr>\n",
       "    <tr>\n",
       "      <th>2</th>\n",
       "      <td>366001</td>\n",
       "      <td>2</td>\n",
       "      <td>2016-01-01</td>\n",
       "      <td>1269051</td>\n",
       "      <td>0</td>\n",
       "      <td>2007</td>\n",
       "      <td>1</td>\n",
       "      <td>USD</td>\n",
       "      <td>Male</td>\n",
       "      <td>Auberry</td>\n",
       "      <td>California</td>\n",
       "      <td>United States</td>\n",
       "      <td>North America</td>\n",
       "      <td>28</td>\n",
       "      <td>Fabrikam Microwave 1.5CuFt X1100 Black</td>\n",
       "      <td>Fabrikam</td>\n",
       "      <td>Black</td>\n",
       "      <td>220.64</td>\n",
       "      <td>665.94</td>\n",
       "      <td>803</td>\n",
       "      <td>Microwaves</td>\n",
       "      <td>8</td>\n",
       "      <td>Home Appliances</td>\n",
       "      <td>Online</td>\n",
       "      <td>Online</td>\n",
       "      <td>0.0</td>\n",
       "      <td>2010-01-01</td>\n",
       "      <td>2016-01-01</td>\n",
       "      <td>USD</td>\n",
       "      <td>1.0000</td>\n",
       "    </tr>\n",
       "    <tr>\n",
       "      <th>3</th>\n",
       "      <td>366002</td>\n",
       "      <td>1</td>\n",
       "      <td>2016-01-01</td>\n",
       "      <td>266019</td>\n",
       "      <td>0</td>\n",
       "      <td>1106</td>\n",
       "      <td>7</td>\n",
       "      <td>CAD</td>\n",
       "      <td>Female</td>\n",
       "      <td>Red Deer</td>\n",
       "      <td>Alberta</td>\n",
       "      <td>Canada</td>\n",
       "      <td>North America</td>\n",
       "      <td>61</td>\n",
       "      <td>Contoso SLR Camera M146 Orange</td>\n",
       "      <td>Contoso</td>\n",
       "      <td>Orange</td>\n",
       "      <td>148.08</td>\n",
       "      <td>322.00</td>\n",
       "      <td>402</td>\n",
       "      <td>Digital SLR Cameras</td>\n",
       "      <td>4</td>\n",
       "      <td>Cameras and camcorders</td>\n",
       "      <td>Online</td>\n",
       "      <td>Online</td>\n",
       "      <td>0.0</td>\n",
       "      <td>2010-01-01</td>\n",
       "      <td>2016-01-01</td>\n",
       "      <td>CAD</td>\n",
       "      <td>1.3884</td>\n",
       "    </tr>\n",
       "    <tr>\n",
       "      <th>4</th>\n",
       "      <td>366002</td>\n",
       "      <td>2</td>\n",
       "      <td>2016-01-01</td>\n",
       "      <td>266019</td>\n",
       "      <td>0</td>\n",
       "      <td>373</td>\n",
       "      <td>1</td>\n",
       "      <td>CAD</td>\n",
       "      <td>Female</td>\n",
       "      <td>Red Deer</td>\n",
       "      <td>Alberta</td>\n",
       "      <td>Canada</td>\n",
       "      <td>North America</td>\n",
       "      <td>61</td>\n",
       "      <td>Adventure Works Laptop8.9 E0890 White</td>\n",
       "      <td>Adventure Works</td>\n",
       "      <td>White</td>\n",
       "      <td>166.20</td>\n",
       "      <td>326.00</td>\n",
       "      <td>301</td>\n",
       "      <td>Laptops</td>\n",
       "      <td>3</td>\n",
       "      <td>Computers</td>\n",
       "      <td>Online</td>\n",
       "      <td>Online</td>\n",
       "      <td>0.0</td>\n",
       "      <td>2010-01-01</td>\n",
       "      <td>2016-01-01</td>\n",
       "      <td>CAD</td>\n",
       "      <td>1.3884</td>\n",
       "    </tr>\n",
       "    <tr>\n",
       "      <th>...</th>\n",
       "      <td>...</td>\n",
       "      <td>...</td>\n",
       "      <td>...</td>\n",
       "      <td>...</td>\n",
       "      <td>...</td>\n",
       "      <td>...</td>\n",
       "      <td>...</td>\n",
       "      <td>...</td>\n",
       "      <td>...</td>\n",
       "      <td>...</td>\n",
       "      <td>...</td>\n",
       "      <td>...</td>\n",
       "      <td>...</td>\n",
       "      <td>...</td>\n",
       "      <td>...</td>\n",
       "      <td>...</td>\n",
       "      <td>...</td>\n",
       "      <td>...</td>\n",
       "      <td>...</td>\n",
       "      <td>...</td>\n",
       "      <td>...</td>\n",
       "      <td>...</td>\n",
       "      <td>...</td>\n",
       "      <td>...</td>\n",
       "      <td>...</td>\n",
       "      <td>...</td>\n",
       "      <td>...</td>\n",
       "      <td>...</td>\n",
       "      <td>...</td>\n",
       "      <td>...</td>\n",
       "    </tr>\n",
       "    <tr>\n",
       "      <th>62879</th>\n",
       "      <td>2243030</td>\n",
       "      <td>1</td>\n",
       "      <td>2021-02-20</td>\n",
       "      <td>1216913</td>\n",
       "      <td>43</td>\n",
       "      <td>632</td>\n",
       "      <td>3</td>\n",
       "      <td>USD</td>\n",
       "      <td>Male</td>\n",
       "      <td>Garden Grove</td>\n",
       "      <td>California</td>\n",
       "      <td>United States</td>\n",
       "      <td>North America</td>\n",
       "      <td>84</td>\n",
       "      <td>WWI Screen 85in E1010 White</td>\n",
       "      <td>Wide World Importers</td>\n",
       "      <td>White</td>\n",
       "      <td>70.87</td>\n",
       "      <td>139.00</td>\n",
       "      <td>305</td>\n",
       "      <td>Projectors &amp; Screens</td>\n",
       "      <td>3</td>\n",
       "      <td>Computers</td>\n",
       "      <td>United States</td>\n",
       "      <td>Alaska</td>\n",
       "      <td>1190.0</td>\n",
       "      <td>2015-01-01</td>\n",
       "      <td>2021-02-20</td>\n",
       "      <td>USD</td>\n",
       "      <td>1.0000</td>\n",
       "    </tr>\n",
       "    <tr>\n",
       "      <th>62880</th>\n",
       "      <td>2243031</td>\n",
       "      <td>1</td>\n",
       "      <td>2021-02-20</td>\n",
       "      <td>511229</td>\n",
       "      <td>0</td>\n",
       "      <td>98</td>\n",
       "      <td>4</td>\n",
       "      <td>EUR</td>\n",
       "      <td>Female</td>\n",
       "      <td>Stuttgart Frauenkopf</td>\n",
       "      <td>Baden-Württemberg</td>\n",
       "      <td>Germany</td>\n",
       "      <td>Europe</td>\n",
       "      <td>83</td>\n",
       "      <td>WWI Wireless Bluetooth Stereo Headphones M170 ...</td>\n",
       "      <td>Wide World Importers</td>\n",
       "      <td>Silver</td>\n",
       "      <td>55.18</td>\n",
       "      <td>120.00</td>\n",
       "      <td>106</td>\n",
       "      <td>Bluetooth Headphones</td>\n",
       "      <td>1</td>\n",
       "      <td>Audio</td>\n",
       "      <td>Online</td>\n",
       "      <td>Online</td>\n",
       "      <td>0.0</td>\n",
       "      <td>2010-01-01</td>\n",
       "      <td>2021-02-20</td>\n",
       "      <td>EUR</td>\n",
       "      <td>0.8238</td>\n",
       "    </tr>\n",
       "    <tr>\n",
       "      <th>62881</th>\n",
       "      <td>2243032</td>\n",
       "      <td>1</td>\n",
       "      <td>2021-02-20</td>\n",
       "      <td>331277</td>\n",
       "      <td>0</td>\n",
       "      <td>1613</td>\n",
       "      <td>2</td>\n",
       "      <td>CAD</td>\n",
       "      <td>Male</td>\n",
       "      <td>Calgary</td>\n",
       "      <td>Alberta</td>\n",
       "      <td>Canada</td>\n",
       "      <td>North America</td>\n",
       "      <td>30</td>\n",
       "      <td>SV DVD 7-Inch Player Portable E200 White</td>\n",
       "      <td>Southridge Video</td>\n",
       "      <td>White</td>\n",
       "      <td>56.08</td>\n",
       "      <td>109.99</td>\n",
       "      <td>602</td>\n",
       "      <td>Movie DVD</td>\n",
       "      <td>6</td>\n",
       "      <td>Music, Movies and Audio Books</td>\n",
       "      <td>Online</td>\n",
       "      <td>Online</td>\n",
       "      <td>0.0</td>\n",
       "      <td>2010-01-01</td>\n",
       "      <td>2021-02-20</td>\n",
       "      <td>CAD</td>\n",
       "      <td>1.2610</td>\n",
       "    </tr>\n",
       "    <tr>\n",
       "      <th>62882</th>\n",
       "      <td>2243032</td>\n",
       "      <td>2</td>\n",
       "      <td>2021-02-20</td>\n",
       "      <td>331277</td>\n",
       "      <td>0</td>\n",
       "      <td>1717</td>\n",
       "      <td>2</td>\n",
       "      <td>CAD</td>\n",
       "      <td>Male</td>\n",
       "      <td>Calgary</td>\n",
       "      <td>Alberta</td>\n",
       "      <td>Canada</td>\n",
       "      <td>North America</td>\n",
       "      <td>30</td>\n",
       "      <td>MGS Flight Simulator X M250</td>\n",
       "      <td>Tailspin Toys</td>\n",
       "      <td>Pink</td>\n",
       "      <td>32.25</td>\n",
       "      <td>70.13</td>\n",
       "      <td>702</td>\n",
       "      <td>Download Games</td>\n",
       "      <td>7</td>\n",
       "      <td>Games and Toys</td>\n",
       "      <td>Online</td>\n",
       "      <td>Online</td>\n",
       "      <td>0.0</td>\n",
       "      <td>2010-01-01</td>\n",
       "      <td>2021-02-20</td>\n",
       "      <td>CAD</td>\n",
       "      <td>1.2610</td>\n",
       "    </tr>\n",
       "    <tr>\n",
       "      <th>62883</th>\n",
       "      <td>2243032</td>\n",
       "      <td>3</td>\n",
       "      <td>2021-02-20</td>\n",
       "      <td>331277</td>\n",
       "      <td>0</td>\n",
       "      <td>464</td>\n",
       "      <td>7</td>\n",
       "      <td>CAD</td>\n",
       "      <td>Male</td>\n",
       "      <td>Calgary</td>\n",
       "      <td>Alberta</td>\n",
       "      <td>Canada</td>\n",
       "      <td>North America</td>\n",
       "      <td>30</td>\n",
       "      <td>Proseware LCD22W M2001 Black</td>\n",
       "      <td>Proseware</td>\n",
       "      <td>Black</td>\n",
       "      <td>224.97</td>\n",
       "      <td>679.00</td>\n",
       "      <td>304</td>\n",
       "      <td>Monitors</td>\n",
       "      <td>3</td>\n",
       "      <td>Computers</td>\n",
       "      <td>Online</td>\n",
       "      <td>Online</td>\n",
       "      <td>0.0</td>\n",
       "      <td>2010-01-01</td>\n",
       "      <td>2021-02-20</td>\n",
       "      <td>CAD</td>\n",
       "      <td>1.2610</td>\n",
       "    </tr>\n",
       "  </tbody>\n",
       "</table>\n",
       "<p>62884 rows × 30 columns</p>\n",
       "</div>"
      ],
      "text/plain": [
       "       order_number  line_item order_date  customerkey  storekey  productkey  \\\n",
       "0            366000          1 2016-01-01       265598        10        1304   \n",
       "1            366001          1 2016-01-01      1269051         0        1048   \n",
       "2            366001          2 2016-01-01      1269051         0        2007   \n",
       "3            366002          1 2016-01-01       266019         0        1106   \n",
       "4            366002          2 2016-01-01       266019         0         373   \n",
       "...             ...        ...        ...          ...       ...         ...   \n",
       "62879       2243030          1 2021-02-20      1216913        43         632   \n",
       "62880       2243031          1 2021-02-20       511229         0          98   \n",
       "62881       2243032          1 2021-02-20       331277         0        1613   \n",
       "62882       2243032          2 2021-02-20       331277         0        1717   \n",
       "62883       2243032          3 2021-02-20       331277         0         464   \n",
       "\n",
       "       quantity currency_code  gender                  city  \\\n",
       "0             1           CAD    Male                London   \n",
       "1             2           USD    Male               Auberry   \n",
       "2             1           USD    Male               Auberry   \n",
       "3             7           CAD  Female              Red Deer   \n",
       "4             1           CAD  Female              Red Deer   \n",
       "...         ...           ...     ...                   ...   \n",
       "62879         3           USD    Male          Garden Grove   \n",
       "62880         4           EUR  Female  Stuttgart Frauenkopf   \n",
       "62881         2           CAD    Male               Calgary   \n",
       "62882         2           CAD    Male               Calgary   \n",
       "62883         7           CAD    Male               Calgary   \n",
       "\n",
       "                 state_x      country_x      continent  age  \\\n",
       "0                Ontario         Canada  North America   52   \n",
       "1             California  United States  North America   28   \n",
       "2             California  United States  North America   28   \n",
       "3                Alberta         Canada  North America   61   \n",
       "4                Alberta         Canada  North America   61   \n",
       "...                  ...            ...            ...  ...   \n",
       "62879         California  United States  North America   84   \n",
       "62880  Baden-Württemberg        Germany         Europe   83   \n",
       "62881            Alberta         Canada  North America   30   \n",
       "62882            Alberta         Canada  North America   30   \n",
       "62883            Alberta         Canada  North America   30   \n",
       "\n",
       "                                            product_name  \\\n",
       "0                        Contoso Lens Adapter M450 White   \n",
       "1                        A. Datum SLR Camera X136 Silver   \n",
       "2                 Fabrikam Microwave 1.5CuFt X1100 Black   \n",
       "3                         Contoso SLR Camera M146 Orange   \n",
       "4                  Adventure Works Laptop8.9 E0890 White   \n",
       "...                                                  ...   \n",
       "62879                        WWI Screen 85in E1010 White   \n",
       "62880  WWI Wireless Bluetooth Stereo Headphones M170 ...   \n",
       "62881           SV DVD 7-Inch Player Portable E200 White   \n",
       "62882                        MGS Flight Simulator X M250   \n",
       "62883                       Proseware LCD22W M2001 Black   \n",
       "\n",
       "                      brand   color  unit_cost_usd  unit_price_usd  \\\n",
       "0                   Contoso   White          31.27           68.00   \n",
       "1                  A. Datum  Silver         141.47          427.00   \n",
       "2                  Fabrikam   Black         220.64          665.94   \n",
       "3                   Contoso  Orange         148.08          322.00   \n",
       "4           Adventure Works   White         166.20          326.00   \n",
       "...                     ...     ...            ...             ...   \n",
       "62879  Wide World Importers   White          70.87          139.00   \n",
       "62880  Wide World Importers  Silver          55.18          120.00   \n",
       "62881      Southridge Video   White          56.08          109.99   \n",
       "62882         Tailspin Toys    Pink          32.25           70.13   \n",
       "62883             Proseware   Black         224.97          679.00   \n",
       "\n",
       "       subcategorykey                       subcategory  categorykey  \\\n",
       "0                 406  Cameras & Camcorders Accessories            4   \n",
       "1                 402               Digital SLR Cameras            4   \n",
       "2                 803                        Microwaves            8   \n",
       "3                 402               Digital SLR Cameras            4   \n",
       "4                 301                           Laptops            3   \n",
       "...               ...                               ...          ...   \n",
       "62879             305              Projectors & Screens            3   \n",
       "62880             106              Bluetooth Headphones            1   \n",
       "62881             602                         Movie DVD            6   \n",
       "62882             702                    Download Games            7   \n",
       "62883             304                          Monitors            3   \n",
       "\n",
       "                            category      country_y  state_y  square_meters  \\\n",
       "0             Cameras and camcorders         Canada  Nunavut         1210.0   \n",
       "1             Cameras and camcorders         Online   Online            0.0   \n",
       "2                    Home Appliances         Online   Online            0.0   \n",
       "3             Cameras and camcorders         Online   Online            0.0   \n",
       "4                          Computers         Online   Online            0.0   \n",
       "...                              ...            ...      ...            ...   \n",
       "62879                      Computers  United States   Alaska         1190.0   \n",
       "62880                          Audio         Online   Online            0.0   \n",
       "62881  Music, Movies and Audio Books         Online   Online            0.0   \n",
       "62882                 Games and Toys         Online   Online            0.0   \n",
       "62883                      Computers         Online   Online            0.0   \n",
       "\n",
       "       open_date       date currency  exchange  \n",
       "0     2015-04-04 2016-01-01      CAD    1.3884  \n",
       "1     2010-01-01 2016-01-01      USD    1.0000  \n",
       "2     2010-01-01 2016-01-01      USD    1.0000  \n",
       "3     2010-01-01 2016-01-01      CAD    1.3884  \n",
       "4     2010-01-01 2016-01-01      CAD    1.3884  \n",
       "...          ...        ...      ...       ...  \n",
       "62879 2015-01-01 2021-02-20      USD    1.0000  \n",
       "62880 2010-01-01 2021-02-20      EUR    0.8238  \n",
       "62881 2010-01-01 2021-02-20      CAD    1.2610  \n",
       "62882 2010-01-01 2021-02-20      CAD    1.2610  \n",
       "62883 2010-01-01 2021-02-20      CAD    1.2610  \n",
       "\n",
       "[62884 rows x 30 columns]"
      ]
     },
     "execution_count": 137,
     "metadata": {},
     "output_type": "execute_result"
    }
   ],
   "source": [
    "merged_df"
   ]
  },
  {
   "cell_type": "code",
   "execution_count": 139,
   "metadata": {
    "colab": {
     "base_uri": "https://localhost:8080/"
    },
    "executionInfo": {
     "elapsed": 370,
     "status": "ok",
     "timestamp": 1738739276262,
     "user": {
      "displayName": "Nandhakumar Gajendran",
      "userId": "10811775384992849761"
     },
     "user_tz": -330
    },
    "id": "4O3NNGBnId4T",
    "outputId": "ac09b446-f550-4cf9-b42f-d3c97f54cf96"
   },
   "outputs": [
    {
     "data": {
      "text/plain": [
       "0"
      ]
     },
     "execution_count": 139,
     "metadata": {},
     "output_type": "execute_result"
    }
   ],
   "source": [
    "merged_df.duplicated().sum()"
   ]
  },
  {
   "cell_type": "code",
   "execution_count": 141,
   "metadata": {
    "colab": {
     "base_uri": "https://localhost:8080/"
    },
    "executionInfo": {
     "elapsed": 355,
     "status": "ok",
     "timestamp": 1738739279687,
     "user": {
      "displayName": "Nandhakumar Gajendran",
      "userId": "10811775384992849761"
     },
     "user_tz": -330
    },
    "id": "ytCxiJ0yInGo",
    "outputId": "c5f19f30-4f4f-4159-85a8-6ab426b6e075"
   },
   "outputs": [
    {
     "data": {
      "text/plain": [
       "Index(['order_number', 'line_item', 'order_date', 'customerkey', 'storekey',\n",
       "       'productkey', 'quantity', 'currency_code', 'gender', 'city', 'state_x',\n",
       "       'country_x', 'continent', 'age', 'product_name', 'brand', 'color',\n",
       "       'unit_cost_usd', 'unit_price_usd', 'subcategorykey', 'subcategory',\n",
       "       'categorykey', 'category', 'country_y', 'state_y', 'square_meters',\n",
       "       'open_date', 'date', 'currency', 'exchange'],\n",
       "      dtype='object')"
      ]
     },
     "execution_count": 141,
     "metadata": {},
     "output_type": "execute_result"
    }
   ],
   "source": [
    "merged_df.columns"
   ]
  },
  {
   "cell_type": "code",
   "execution_count": 143,
   "metadata": {
    "id": "hbyq9Tw1Iw4C"
   },
   "outputs": [],
   "source": [
    "merged_df.rename(columns={'city': 'customers_city'}, inplace=True)\n",
    "merged_df.rename(columns={'state_x': 'customers_state'}, inplace=True)\n",
    "merged_df.rename(columns={'country_x': 'customers_country'}, inplace=True)\n",
    "merged_df.rename(columns={'continent': 'customers_continent'}, inplace=True)\n",
    "merged_df.rename(columns={'unit_cost_usd': '_unit_cost_usd_'}, inplace=True)\n",
    "merged_df.rename(columns={'unit_price_usd': '_unit_price_usd_'}, inplace=True)\n"
   ]
  },
  {
   "cell_type": "code",
   "execution_count": 145,
   "metadata": {
    "id": "0zH-zTmrN-Bv"
   },
   "outputs": [],
   "source": [
    "merged_df.rename(columns={'city': 'store_city'}, inplace=True)\n",
    "merged_df.rename(columns={'state_y': 'store_state'}, inplace=True)\n",
    "merged_df.rename(columns={'country_y': 'store_country'}, inplace=True)"
   ]
  },
  {
   "cell_type": "code",
   "execution_count": 147,
   "metadata": {
    "colab": {
     "base_uri": "https://localhost:8080/"
    },
    "executionInfo": {
     "elapsed": 361,
     "status": "ok",
     "timestamp": 1738739305568,
     "user": {
      "displayName": "Nandhakumar Gajendran",
      "userId": "10811775384992849761"
     },
     "user_tz": -330
    },
    "id": "__nEnKwXOZ1F",
    "outputId": "4b437120-7e20-409d-a1a8-fc9e709d5f91"
   },
   "outputs": [
    {
     "data": {
      "text/plain": [
       "Index(['order_number', 'line_item', 'order_date', 'customerkey', 'storekey',\n",
       "       'productkey', 'quantity', 'currency_code', 'gender', 'customers_city',\n",
       "       'customers_state', 'customers_country', 'customers_continent', 'age',\n",
       "       'product_name', 'brand', 'color', '_unit_cost_usd_', '_unit_price_usd_',\n",
       "       'subcategorykey', 'subcategory', 'categorykey', 'category',\n",
       "       'store_country', 'store_state', 'square_meters', 'open_date', 'date',\n",
       "       'currency', 'exchange'],\n",
       "      dtype='object')"
      ]
     },
     "execution_count": 147,
     "metadata": {},
     "output_type": "execute_result"
    }
   ],
   "source": [
    "merged_df.columns"
   ]
  },
  {
   "cell_type": "code",
   "execution_count": 149,
   "metadata": {
    "colab": {
     "base_uri": "https://localhost:8080/",
     "height": 424
    },
    "executionInfo": {
     "elapsed": 382,
     "status": "ok",
     "timestamp": 1738739497450,
     "user": {
      "displayName": "Nandhakumar Gajendran",
      "userId": "10811775384992849761"
     },
     "user_tz": -330
    },
    "id": "4kg-kkWd8nQX",
    "outputId": "137d3805-1207-4be6-edf6-dd9375fcede9"
   },
   "outputs": [
    {
     "data": {
      "text/html": [
       "<div>\n",
       "<style scoped>\n",
       "    .dataframe tbody tr th:only-of-type {\n",
       "        vertical-align: middle;\n",
       "    }\n",
       "\n",
       "    .dataframe tbody tr th {\n",
       "        vertical-align: top;\n",
       "    }\n",
       "\n",
       "    .dataframe thead th {\n",
       "        text-align: right;\n",
       "    }\n",
       "</style>\n",
       "<table border=\"1\" class=\"dataframe\">\n",
       "  <thead>\n",
       "    <tr style=\"text-align: right;\">\n",
       "      <th></th>\n",
       "      <th>currency_code</th>\n",
       "      <th>currency</th>\n",
       "    </tr>\n",
       "  </thead>\n",
       "  <tbody>\n",
       "    <tr>\n",
       "      <th>0</th>\n",
       "      <td>CAD</td>\n",
       "      <td>CAD</td>\n",
       "    </tr>\n",
       "    <tr>\n",
       "      <th>1</th>\n",
       "      <td>USD</td>\n",
       "      <td>USD</td>\n",
       "    </tr>\n",
       "    <tr>\n",
       "      <th>2</th>\n",
       "      <td>USD</td>\n",
       "      <td>USD</td>\n",
       "    </tr>\n",
       "    <tr>\n",
       "      <th>3</th>\n",
       "      <td>CAD</td>\n",
       "      <td>CAD</td>\n",
       "    </tr>\n",
       "    <tr>\n",
       "      <th>4</th>\n",
       "      <td>CAD</td>\n",
       "      <td>CAD</td>\n",
       "    </tr>\n",
       "    <tr>\n",
       "      <th>...</th>\n",
       "      <td>...</td>\n",
       "      <td>...</td>\n",
       "    </tr>\n",
       "    <tr>\n",
       "      <th>62879</th>\n",
       "      <td>USD</td>\n",
       "      <td>USD</td>\n",
       "    </tr>\n",
       "    <tr>\n",
       "      <th>62880</th>\n",
       "      <td>EUR</td>\n",
       "      <td>EUR</td>\n",
       "    </tr>\n",
       "    <tr>\n",
       "      <th>62881</th>\n",
       "      <td>CAD</td>\n",
       "      <td>CAD</td>\n",
       "    </tr>\n",
       "    <tr>\n",
       "      <th>62882</th>\n",
       "      <td>CAD</td>\n",
       "      <td>CAD</td>\n",
       "    </tr>\n",
       "    <tr>\n",
       "      <th>62883</th>\n",
       "      <td>CAD</td>\n",
       "      <td>CAD</td>\n",
       "    </tr>\n",
       "  </tbody>\n",
       "</table>\n",
       "<p>62884 rows × 2 columns</p>\n",
       "</div>"
      ],
      "text/plain": [
       "      currency_code currency\n",
       "0               CAD      CAD\n",
       "1               USD      USD\n",
       "2               USD      USD\n",
       "3               CAD      CAD\n",
       "4               CAD      CAD\n",
       "...             ...      ...\n",
       "62879           USD      USD\n",
       "62880           EUR      EUR\n",
       "62881           CAD      CAD\n",
       "62882           CAD      CAD\n",
       "62883           CAD      CAD\n",
       "\n",
       "[62884 rows x 2 columns]"
      ]
     },
     "execution_count": 149,
     "metadata": {},
     "output_type": "execute_result"
    }
   ],
   "source": [
    "merged_df[['currency_code', 'currency']]"
   ]
  },
  {
   "cell_type": "code",
   "execution_count": 151,
   "metadata": {
    "colab": {
     "base_uri": "https://localhost:8080/",
     "height": 424
    },
    "executionInfo": {
     "elapsed": 409,
     "status": "ok",
     "timestamp": 1738739533698,
     "user": {
      "displayName": "Nandhakumar Gajendran",
      "userId": "10811775384992849761"
     },
     "user_tz": -330
    },
    "id": "QBg4u6rL81av",
    "outputId": "e881d5fb-27c9-405c-981d-32e11b9f7384"
   },
   "outputs": [
    {
     "data": {
      "text/html": [
       "<div>\n",
       "<style scoped>\n",
       "    .dataframe tbody tr th:only-of-type {\n",
       "        vertical-align: middle;\n",
       "    }\n",
       "\n",
       "    .dataframe tbody tr th {\n",
       "        vertical-align: top;\n",
       "    }\n",
       "\n",
       "    .dataframe thead th {\n",
       "        text-align: right;\n",
       "    }\n",
       "</style>\n",
       "<table border=\"1\" class=\"dataframe\">\n",
       "  <thead>\n",
       "    <tr style=\"text-align: right;\">\n",
       "      <th></th>\n",
       "      <th>order_date</th>\n",
       "      <th>date</th>\n",
       "    </tr>\n",
       "  </thead>\n",
       "  <tbody>\n",
       "    <tr>\n",
       "      <th>0</th>\n",
       "      <td>2016-01-01</td>\n",
       "      <td>2016-01-01</td>\n",
       "    </tr>\n",
       "    <tr>\n",
       "      <th>1</th>\n",
       "      <td>2016-01-01</td>\n",
       "      <td>2016-01-01</td>\n",
       "    </tr>\n",
       "    <tr>\n",
       "      <th>2</th>\n",
       "      <td>2016-01-01</td>\n",
       "      <td>2016-01-01</td>\n",
       "    </tr>\n",
       "    <tr>\n",
       "      <th>3</th>\n",
       "      <td>2016-01-01</td>\n",
       "      <td>2016-01-01</td>\n",
       "    </tr>\n",
       "    <tr>\n",
       "      <th>4</th>\n",
       "      <td>2016-01-01</td>\n",
       "      <td>2016-01-01</td>\n",
       "    </tr>\n",
       "    <tr>\n",
       "      <th>...</th>\n",
       "      <td>...</td>\n",
       "      <td>...</td>\n",
       "    </tr>\n",
       "    <tr>\n",
       "      <th>62879</th>\n",
       "      <td>2021-02-20</td>\n",
       "      <td>2021-02-20</td>\n",
       "    </tr>\n",
       "    <tr>\n",
       "      <th>62880</th>\n",
       "      <td>2021-02-20</td>\n",
       "      <td>2021-02-20</td>\n",
       "    </tr>\n",
       "    <tr>\n",
       "      <th>62881</th>\n",
       "      <td>2021-02-20</td>\n",
       "      <td>2021-02-20</td>\n",
       "    </tr>\n",
       "    <tr>\n",
       "      <th>62882</th>\n",
       "      <td>2021-02-20</td>\n",
       "      <td>2021-02-20</td>\n",
       "    </tr>\n",
       "    <tr>\n",
       "      <th>62883</th>\n",
       "      <td>2021-02-20</td>\n",
       "      <td>2021-02-20</td>\n",
       "    </tr>\n",
       "  </tbody>\n",
       "</table>\n",
       "<p>62884 rows × 2 columns</p>\n",
       "</div>"
      ],
      "text/plain": [
       "      order_date       date\n",
       "0     2016-01-01 2016-01-01\n",
       "1     2016-01-01 2016-01-01\n",
       "2     2016-01-01 2016-01-01\n",
       "3     2016-01-01 2016-01-01\n",
       "4     2016-01-01 2016-01-01\n",
       "...          ...        ...\n",
       "62879 2021-02-20 2021-02-20\n",
       "62880 2021-02-20 2021-02-20\n",
       "62881 2021-02-20 2021-02-20\n",
       "62882 2021-02-20 2021-02-20\n",
       "62883 2021-02-20 2021-02-20\n",
       "\n",
       "[62884 rows x 2 columns]"
      ]
     },
     "execution_count": 151,
     "metadata": {},
     "output_type": "execute_result"
    }
   ],
   "source": [
    "merged_df[['order_date','date']]"
   ]
  },
  {
   "cell_type": "code",
   "execution_count": 153,
   "metadata": {
    "id": "g87HXv3rSJs6"
   },
   "outputs": [],
   "source": [
    "merged_df.drop(['date'], axis=1, inplace=True)\n",
    "merged_df.drop(['currency'],axis=1, inplace=True)"
   ]
  },
  {
   "cell_type": "code",
   "execution_count": 155,
   "metadata": {
    "colab": {
     "base_uri": "https://localhost:8080/"
    },
    "executionInfo": {
     "elapsed": 388,
     "status": "ok",
     "timestamp": 1738739579585,
     "user": {
      "displayName": "Nandhakumar Gajendran",
      "userId": "10811775384992849761"
     },
     "user_tz": -330
    },
    "id": "GMxSfDcmti1i",
    "outputId": "eea72937-a982-4d3b-d4e6-ee857c3f4204"
   },
   "outputs": [
    {
     "name": "stdout",
     "output_type": "stream",
     "text": [
      "<class 'pandas.core.frame.DataFrame'>\n",
      "RangeIndex: 62884 entries, 0 to 62883\n",
      "Data columns (total 28 columns):\n",
      " #   Column               Non-Null Count  Dtype         \n",
      "---  ------               --------------  -----         \n",
      " 0   order_number         62884 non-null  int64         \n",
      " 1   line_item            62884 non-null  int64         \n",
      " 2   order_date           62884 non-null  datetime64[ns]\n",
      " 3   customerkey          62884 non-null  int64         \n",
      " 4   storekey             62884 non-null  int64         \n",
      " 5   productkey           62884 non-null  int64         \n",
      " 6   quantity             62884 non-null  int64         \n",
      " 7   currency_code        62884 non-null  object        \n",
      " 8   gender               62884 non-null  object        \n",
      " 9   customers_city       62884 non-null  object        \n",
      " 10  customers_state      62884 non-null  object        \n",
      " 11  customers_country    62884 non-null  object        \n",
      " 12  customers_continent  62884 non-null  object        \n",
      " 13  age                  62884 non-null  int32         \n",
      " 14  product_name         62884 non-null  object        \n",
      " 15  brand                62884 non-null  object        \n",
      " 16  color                62884 non-null  object        \n",
      " 17  _unit_cost_usd_      62884 non-null  float64       \n",
      " 18  _unit_price_usd_     62884 non-null  float64       \n",
      " 19  subcategorykey       62884 non-null  int64         \n",
      " 20  subcategory          62884 non-null  object        \n",
      " 21  categorykey          62884 non-null  int64         \n",
      " 22  category             62884 non-null  object        \n",
      " 23  store_country        62884 non-null  object        \n",
      " 24  store_state          62884 non-null  object        \n",
      " 25  square_meters        62884 non-null  float64       \n",
      " 26  open_date            62884 non-null  datetime64[ns]\n",
      " 27  exchange             62884 non-null  float64       \n",
      "dtypes: datetime64[ns](2), float64(4), int32(1), int64(8), object(13)\n",
      "memory usage: 13.2+ MB\n"
     ]
    }
   ],
   "source": [
    "merged_df.info()"
   ]
  },
  {
   "cell_type": "code",
   "execution_count": 157,
   "metadata": {
    "colab": {
     "base_uri": "https://localhost:8080/",
     "height": 962
    },
    "executionInfo": {
     "elapsed": 382,
     "status": "ok",
     "timestamp": 1738739582801,
     "user": {
      "displayName": "Nandhakumar Gajendran",
      "userId": "10811775384992849761"
     },
     "user_tz": -330
    },
    "id": "hg3cRqWPt6xA",
    "outputId": "b3a26957-6f13-4d17-fe67-8c2011ceacb3"
   },
   "outputs": [
    {
     "data": {
      "text/plain": [
       "order_number           0\n",
       "line_item              0\n",
       "order_date             0\n",
       "customerkey            0\n",
       "storekey               0\n",
       "productkey             0\n",
       "quantity               0\n",
       "currency_code          0\n",
       "gender                 0\n",
       "customers_city         0\n",
       "customers_state        0\n",
       "customers_country      0\n",
       "customers_continent    0\n",
       "age                    0\n",
       "product_name           0\n",
       "brand                  0\n",
       "color                  0\n",
       "_unit_cost_usd_        0\n",
       "_unit_price_usd_       0\n",
       "subcategorykey         0\n",
       "subcategory            0\n",
       "categorykey            0\n",
       "category               0\n",
       "store_country          0\n",
       "store_state            0\n",
       "square_meters          0\n",
       "open_date              0\n",
       "exchange               0\n",
       "dtype: int64"
      ]
     },
     "execution_count": 157,
     "metadata": {},
     "output_type": "execute_result"
    }
   ],
   "source": [
    "merged_df.isnull().sum()"
   ]
  },
  {
   "cell_type": "code",
   "execution_count": 159,
   "metadata": {
    "id": "2izpBnO_Ku3G"
   },
   "outputs": [],
   "source": [
    "merged_df.to_csv(r'C:\\Users\\Bhuvanesh\\Desktop\\Yogesh Guvi\\Data Spark Project\\Data Set\\Cleaned\\Merged_df.csv', index=False)"
   ]
  },
  {
   "cell_type": "code",
   "execution_count": 161,
   "metadata": {
    "id": "tUTWdtSWKgqm"
   },
   "outputs": [],
   "source": [
    "df = pd.read_csv(r'C:\\Users\\Bhuvanesh\\Desktop\\Yogesh Guvi\\Data Spark Project\\Data Set\\Cleaned\\Merged_df.csv')"
   ]
  },
  {
   "cell_type": "code",
   "execution_count": 163,
   "metadata": {
    "colab": {
     "base_uri": "https://localhost:8080/",
     "height": 877
    },
    "executionInfo": {
     "elapsed": 406,
     "status": "ok",
     "timestamp": 1738739592147,
     "user": {
      "displayName": "Nandhakumar Gajendran",
      "userId": "10811775384992849761"
     },
     "user_tz": -330
    },
    "id": "l5xwErekKost",
    "outputId": "383c20b1-4ecf-448a-8deb-d2d45ca7bfbd"
   },
   "outputs": [
    {
     "data": {
      "text/html": [
       "<div>\n",
       "<style scoped>\n",
       "    .dataframe tbody tr th:only-of-type {\n",
       "        vertical-align: middle;\n",
       "    }\n",
       "\n",
       "    .dataframe tbody tr th {\n",
       "        vertical-align: top;\n",
       "    }\n",
       "\n",
       "    .dataframe thead th {\n",
       "        text-align: right;\n",
       "    }\n",
       "</style>\n",
       "<table border=\"1\" class=\"dataframe\">\n",
       "  <thead>\n",
       "    <tr style=\"text-align: right;\">\n",
       "      <th></th>\n",
       "      <th>order_number</th>\n",
       "      <th>line_item</th>\n",
       "      <th>order_date</th>\n",
       "      <th>customerkey</th>\n",
       "      <th>storekey</th>\n",
       "      <th>productkey</th>\n",
       "      <th>quantity</th>\n",
       "      <th>currency_code</th>\n",
       "      <th>gender</th>\n",
       "      <th>customers_city</th>\n",
       "      <th>customers_state</th>\n",
       "      <th>customers_country</th>\n",
       "      <th>customers_continent</th>\n",
       "      <th>age</th>\n",
       "      <th>product_name</th>\n",
       "      <th>brand</th>\n",
       "      <th>color</th>\n",
       "      <th>_unit_cost_usd_</th>\n",
       "      <th>_unit_price_usd_</th>\n",
       "      <th>subcategorykey</th>\n",
       "      <th>subcategory</th>\n",
       "      <th>categorykey</th>\n",
       "      <th>category</th>\n",
       "      <th>store_country</th>\n",
       "      <th>store_state</th>\n",
       "      <th>square_meters</th>\n",
       "      <th>open_date</th>\n",
       "      <th>exchange</th>\n",
       "    </tr>\n",
       "  </thead>\n",
       "  <tbody>\n",
       "    <tr>\n",
       "      <th>0</th>\n",
       "      <td>366000</td>\n",
       "      <td>1</td>\n",
       "      <td>2016-01-01</td>\n",
       "      <td>265598</td>\n",
       "      <td>10</td>\n",
       "      <td>1304</td>\n",
       "      <td>1</td>\n",
       "      <td>CAD</td>\n",
       "      <td>Male</td>\n",
       "      <td>London</td>\n",
       "      <td>Ontario</td>\n",
       "      <td>Canada</td>\n",
       "      <td>North America</td>\n",
       "      <td>52</td>\n",
       "      <td>Contoso Lens Adapter M450 White</td>\n",
       "      <td>Contoso</td>\n",
       "      <td>White</td>\n",
       "      <td>31.27</td>\n",
       "      <td>68.00</td>\n",
       "      <td>406</td>\n",
       "      <td>Cameras &amp; Camcorders Accessories</td>\n",
       "      <td>4</td>\n",
       "      <td>Cameras and camcorders</td>\n",
       "      <td>Canada</td>\n",
       "      <td>Nunavut</td>\n",
       "      <td>1210.0</td>\n",
       "      <td>2015-04-04</td>\n",
       "      <td>1.3884</td>\n",
       "    </tr>\n",
       "    <tr>\n",
       "      <th>1</th>\n",
       "      <td>366001</td>\n",
       "      <td>1</td>\n",
       "      <td>2016-01-01</td>\n",
       "      <td>1269051</td>\n",
       "      <td>0</td>\n",
       "      <td>1048</td>\n",
       "      <td>2</td>\n",
       "      <td>USD</td>\n",
       "      <td>Male</td>\n",
       "      <td>Auberry</td>\n",
       "      <td>California</td>\n",
       "      <td>United States</td>\n",
       "      <td>North America</td>\n",
       "      <td>28</td>\n",
       "      <td>A. Datum SLR Camera X136 Silver</td>\n",
       "      <td>A. Datum</td>\n",
       "      <td>Silver</td>\n",
       "      <td>141.47</td>\n",
       "      <td>427.00</td>\n",
       "      <td>402</td>\n",
       "      <td>Digital SLR Cameras</td>\n",
       "      <td>4</td>\n",
       "      <td>Cameras and camcorders</td>\n",
       "      <td>Online</td>\n",
       "      <td>Online</td>\n",
       "      <td>0.0</td>\n",
       "      <td>2010-01-01</td>\n",
       "      <td>1.0000</td>\n",
       "    </tr>\n",
       "    <tr>\n",
       "      <th>2</th>\n",
       "      <td>366001</td>\n",
       "      <td>2</td>\n",
       "      <td>2016-01-01</td>\n",
       "      <td>1269051</td>\n",
       "      <td>0</td>\n",
       "      <td>2007</td>\n",
       "      <td>1</td>\n",
       "      <td>USD</td>\n",
       "      <td>Male</td>\n",
       "      <td>Auberry</td>\n",
       "      <td>California</td>\n",
       "      <td>United States</td>\n",
       "      <td>North America</td>\n",
       "      <td>28</td>\n",
       "      <td>Fabrikam Microwave 1.5CuFt X1100 Black</td>\n",
       "      <td>Fabrikam</td>\n",
       "      <td>Black</td>\n",
       "      <td>220.64</td>\n",
       "      <td>665.94</td>\n",
       "      <td>803</td>\n",
       "      <td>Microwaves</td>\n",
       "      <td>8</td>\n",
       "      <td>Home Appliances</td>\n",
       "      <td>Online</td>\n",
       "      <td>Online</td>\n",
       "      <td>0.0</td>\n",
       "      <td>2010-01-01</td>\n",
       "      <td>1.0000</td>\n",
       "    </tr>\n",
       "    <tr>\n",
       "      <th>3</th>\n",
       "      <td>366002</td>\n",
       "      <td>1</td>\n",
       "      <td>2016-01-01</td>\n",
       "      <td>266019</td>\n",
       "      <td>0</td>\n",
       "      <td>1106</td>\n",
       "      <td>7</td>\n",
       "      <td>CAD</td>\n",
       "      <td>Female</td>\n",
       "      <td>Red Deer</td>\n",
       "      <td>Alberta</td>\n",
       "      <td>Canada</td>\n",
       "      <td>North America</td>\n",
       "      <td>61</td>\n",
       "      <td>Contoso SLR Camera M146 Orange</td>\n",
       "      <td>Contoso</td>\n",
       "      <td>Orange</td>\n",
       "      <td>148.08</td>\n",
       "      <td>322.00</td>\n",
       "      <td>402</td>\n",
       "      <td>Digital SLR Cameras</td>\n",
       "      <td>4</td>\n",
       "      <td>Cameras and camcorders</td>\n",
       "      <td>Online</td>\n",
       "      <td>Online</td>\n",
       "      <td>0.0</td>\n",
       "      <td>2010-01-01</td>\n",
       "      <td>1.3884</td>\n",
       "    </tr>\n",
       "    <tr>\n",
       "      <th>4</th>\n",
       "      <td>366002</td>\n",
       "      <td>2</td>\n",
       "      <td>2016-01-01</td>\n",
       "      <td>266019</td>\n",
       "      <td>0</td>\n",
       "      <td>373</td>\n",
       "      <td>1</td>\n",
       "      <td>CAD</td>\n",
       "      <td>Female</td>\n",
       "      <td>Red Deer</td>\n",
       "      <td>Alberta</td>\n",
       "      <td>Canada</td>\n",
       "      <td>North America</td>\n",
       "      <td>61</td>\n",
       "      <td>Adventure Works Laptop8.9 E0890 White</td>\n",
       "      <td>Adventure Works</td>\n",
       "      <td>White</td>\n",
       "      <td>166.20</td>\n",
       "      <td>326.00</td>\n",
       "      <td>301</td>\n",
       "      <td>Laptops</td>\n",
       "      <td>3</td>\n",
       "      <td>Computers</td>\n",
       "      <td>Online</td>\n",
       "      <td>Online</td>\n",
       "      <td>0.0</td>\n",
       "      <td>2010-01-01</td>\n",
       "      <td>1.3884</td>\n",
       "    </tr>\n",
       "    <tr>\n",
       "      <th>...</th>\n",
       "      <td>...</td>\n",
       "      <td>...</td>\n",
       "      <td>...</td>\n",
       "      <td>...</td>\n",
       "      <td>...</td>\n",
       "      <td>...</td>\n",
       "      <td>...</td>\n",
       "      <td>...</td>\n",
       "      <td>...</td>\n",
       "      <td>...</td>\n",
       "      <td>...</td>\n",
       "      <td>...</td>\n",
       "      <td>...</td>\n",
       "      <td>...</td>\n",
       "      <td>...</td>\n",
       "      <td>...</td>\n",
       "      <td>...</td>\n",
       "      <td>...</td>\n",
       "      <td>...</td>\n",
       "      <td>...</td>\n",
       "      <td>...</td>\n",
       "      <td>...</td>\n",
       "      <td>...</td>\n",
       "      <td>...</td>\n",
       "      <td>...</td>\n",
       "      <td>...</td>\n",
       "      <td>...</td>\n",
       "      <td>...</td>\n",
       "    </tr>\n",
       "    <tr>\n",
       "      <th>62879</th>\n",
       "      <td>2243030</td>\n",
       "      <td>1</td>\n",
       "      <td>2021-02-20</td>\n",
       "      <td>1216913</td>\n",
       "      <td>43</td>\n",
       "      <td>632</td>\n",
       "      <td>3</td>\n",
       "      <td>USD</td>\n",
       "      <td>Male</td>\n",
       "      <td>Garden Grove</td>\n",
       "      <td>California</td>\n",
       "      <td>United States</td>\n",
       "      <td>North America</td>\n",
       "      <td>84</td>\n",
       "      <td>WWI Screen 85in E1010 White</td>\n",
       "      <td>Wide World Importers</td>\n",
       "      <td>White</td>\n",
       "      <td>70.87</td>\n",
       "      <td>139.00</td>\n",
       "      <td>305</td>\n",
       "      <td>Projectors &amp; Screens</td>\n",
       "      <td>3</td>\n",
       "      <td>Computers</td>\n",
       "      <td>United States</td>\n",
       "      <td>Alaska</td>\n",
       "      <td>1190.0</td>\n",
       "      <td>2015-01-01</td>\n",
       "      <td>1.0000</td>\n",
       "    </tr>\n",
       "    <tr>\n",
       "      <th>62880</th>\n",
       "      <td>2243031</td>\n",
       "      <td>1</td>\n",
       "      <td>2021-02-20</td>\n",
       "      <td>511229</td>\n",
       "      <td>0</td>\n",
       "      <td>98</td>\n",
       "      <td>4</td>\n",
       "      <td>EUR</td>\n",
       "      <td>Female</td>\n",
       "      <td>Stuttgart Frauenkopf</td>\n",
       "      <td>Baden-Württemberg</td>\n",
       "      <td>Germany</td>\n",
       "      <td>Europe</td>\n",
       "      <td>83</td>\n",
       "      <td>WWI Wireless Bluetooth Stereo Headphones M170 ...</td>\n",
       "      <td>Wide World Importers</td>\n",
       "      <td>Silver</td>\n",
       "      <td>55.18</td>\n",
       "      <td>120.00</td>\n",
       "      <td>106</td>\n",
       "      <td>Bluetooth Headphones</td>\n",
       "      <td>1</td>\n",
       "      <td>Audio</td>\n",
       "      <td>Online</td>\n",
       "      <td>Online</td>\n",
       "      <td>0.0</td>\n",
       "      <td>2010-01-01</td>\n",
       "      <td>0.8238</td>\n",
       "    </tr>\n",
       "    <tr>\n",
       "      <th>62881</th>\n",
       "      <td>2243032</td>\n",
       "      <td>1</td>\n",
       "      <td>2021-02-20</td>\n",
       "      <td>331277</td>\n",
       "      <td>0</td>\n",
       "      <td>1613</td>\n",
       "      <td>2</td>\n",
       "      <td>CAD</td>\n",
       "      <td>Male</td>\n",
       "      <td>Calgary</td>\n",
       "      <td>Alberta</td>\n",
       "      <td>Canada</td>\n",
       "      <td>North America</td>\n",
       "      <td>30</td>\n",
       "      <td>SV DVD 7-Inch Player Portable E200 White</td>\n",
       "      <td>Southridge Video</td>\n",
       "      <td>White</td>\n",
       "      <td>56.08</td>\n",
       "      <td>109.99</td>\n",
       "      <td>602</td>\n",
       "      <td>Movie DVD</td>\n",
       "      <td>6</td>\n",
       "      <td>Music, Movies and Audio Books</td>\n",
       "      <td>Online</td>\n",
       "      <td>Online</td>\n",
       "      <td>0.0</td>\n",
       "      <td>2010-01-01</td>\n",
       "      <td>1.2610</td>\n",
       "    </tr>\n",
       "    <tr>\n",
       "      <th>62882</th>\n",
       "      <td>2243032</td>\n",
       "      <td>2</td>\n",
       "      <td>2021-02-20</td>\n",
       "      <td>331277</td>\n",
       "      <td>0</td>\n",
       "      <td>1717</td>\n",
       "      <td>2</td>\n",
       "      <td>CAD</td>\n",
       "      <td>Male</td>\n",
       "      <td>Calgary</td>\n",
       "      <td>Alberta</td>\n",
       "      <td>Canada</td>\n",
       "      <td>North America</td>\n",
       "      <td>30</td>\n",
       "      <td>MGS Flight Simulator X M250</td>\n",
       "      <td>Tailspin Toys</td>\n",
       "      <td>Pink</td>\n",
       "      <td>32.25</td>\n",
       "      <td>70.13</td>\n",
       "      <td>702</td>\n",
       "      <td>Download Games</td>\n",
       "      <td>7</td>\n",
       "      <td>Games and Toys</td>\n",
       "      <td>Online</td>\n",
       "      <td>Online</td>\n",
       "      <td>0.0</td>\n",
       "      <td>2010-01-01</td>\n",
       "      <td>1.2610</td>\n",
       "    </tr>\n",
       "    <tr>\n",
       "      <th>62883</th>\n",
       "      <td>2243032</td>\n",
       "      <td>3</td>\n",
       "      <td>2021-02-20</td>\n",
       "      <td>331277</td>\n",
       "      <td>0</td>\n",
       "      <td>464</td>\n",
       "      <td>7</td>\n",
       "      <td>CAD</td>\n",
       "      <td>Male</td>\n",
       "      <td>Calgary</td>\n",
       "      <td>Alberta</td>\n",
       "      <td>Canada</td>\n",
       "      <td>North America</td>\n",
       "      <td>30</td>\n",
       "      <td>Proseware LCD22W M2001 Black</td>\n",
       "      <td>Proseware</td>\n",
       "      <td>Black</td>\n",
       "      <td>224.97</td>\n",
       "      <td>679.00</td>\n",
       "      <td>304</td>\n",
       "      <td>Monitors</td>\n",
       "      <td>3</td>\n",
       "      <td>Computers</td>\n",
       "      <td>Online</td>\n",
       "      <td>Online</td>\n",
       "      <td>0.0</td>\n",
       "      <td>2010-01-01</td>\n",
       "      <td>1.2610</td>\n",
       "    </tr>\n",
       "  </tbody>\n",
       "</table>\n",
       "<p>62884 rows × 28 columns</p>\n",
       "</div>"
      ],
      "text/plain": [
       "       order_number  line_item  order_date  customerkey  storekey  productkey  \\\n",
       "0            366000          1  2016-01-01       265598        10        1304   \n",
       "1            366001          1  2016-01-01      1269051         0        1048   \n",
       "2            366001          2  2016-01-01      1269051         0        2007   \n",
       "3            366002          1  2016-01-01       266019         0        1106   \n",
       "4            366002          2  2016-01-01       266019         0         373   \n",
       "...             ...        ...         ...          ...       ...         ...   \n",
       "62879       2243030          1  2021-02-20      1216913        43         632   \n",
       "62880       2243031          1  2021-02-20       511229         0          98   \n",
       "62881       2243032          1  2021-02-20       331277         0        1613   \n",
       "62882       2243032          2  2021-02-20       331277         0        1717   \n",
       "62883       2243032          3  2021-02-20       331277         0         464   \n",
       "\n",
       "       quantity currency_code  gender        customers_city  \\\n",
       "0             1           CAD    Male                London   \n",
       "1             2           USD    Male               Auberry   \n",
       "2             1           USD    Male               Auberry   \n",
       "3             7           CAD  Female              Red Deer   \n",
       "4             1           CAD  Female              Red Deer   \n",
       "...         ...           ...     ...                   ...   \n",
       "62879         3           USD    Male          Garden Grove   \n",
       "62880         4           EUR  Female  Stuttgart Frauenkopf   \n",
       "62881         2           CAD    Male               Calgary   \n",
       "62882         2           CAD    Male               Calgary   \n",
       "62883         7           CAD    Male               Calgary   \n",
       "\n",
       "         customers_state customers_country customers_continent  age  \\\n",
       "0                Ontario            Canada       North America   52   \n",
       "1             California     United States       North America   28   \n",
       "2             California     United States       North America   28   \n",
       "3                Alberta            Canada       North America   61   \n",
       "4                Alberta            Canada       North America   61   \n",
       "...                  ...               ...                 ...  ...   \n",
       "62879         California     United States       North America   84   \n",
       "62880  Baden-Württemberg           Germany              Europe   83   \n",
       "62881            Alberta            Canada       North America   30   \n",
       "62882            Alberta            Canada       North America   30   \n",
       "62883            Alberta            Canada       North America   30   \n",
       "\n",
       "                                            product_name  \\\n",
       "0                        Contoso Lens Adapter M450 White   \n",
       "1                        A. Datum SLR Camera X136 Silver   \n",
       "2                 Fabrikam Microwave 1.5CuFt X1100 Black   \n",
       "3                         Contoso SLR Camera M146 Orange   \n",
       "4                  Adventure Works Laptop8.9 E0890 White   \n",
       "...                                                  ...   \n",
       "62879                        WWI Screen 85in E1010 White   \n",
       "62880  WWI Wireless Bluetooth Stereo Headphones M170 ...   \n",
       "62881           SV DVD 7-Inch Player Portable E200 White   \n",
       "62882                        MGS Flight Simulator X M250   \n",
       "62883                       Proseware LCD22W M2001 Black   \n",
       "\n",
       "                      brand   color  _unit_cost_usd_  _unit_price_usd_  \\\n",
       "0                   Contoso   White            31.27             68.00   \n",
       "1                  A. Datum  Silver           141.47            427.00   \n",
       "2                  Fabrikam   Black           220.64            665.94   \n",
       "3                   Contoso  Orange           148.08            322.00   \n",
       "4           Adventure Works   White           166.20            326.00   \n",
       "...                     ...     ...              ...               ...   \n",
       "62879  Wide World Importers   White            70.87            139.00   \n",
       "62880  Wide World Importers  Silver            55.18            120.00   \n",
       "62881      Southridge Video   White            56.08            109.99   \n",
       "62882         Tailspin Toys    Pink            32.25             70.13   \n",
       "62883             Proseware   Black           224.97            679.00   \n",
       "\n",
       "       subcategorykey                       subcategory  categorykey  \\\n",
       "0                 406  Cameras & Camcorders Accessories            4   \n",
       "1                 402               Digital SLR Cameras            4   \n",
       "2                 803                        Microwaves            8   \n",
       "3                 402               Digital SLR Cameras            4   \n",
       "4                 301                           Laptops            3   \n",
       "...               ...                               ...          ...   \n",
       "62879             305              Projectors & Screens            3   \n",
       "62880             106              Bluetooth Headphones            1   \n",
       "62881             602                         Movie DVD            6   \n",
       "62882             702                    Download Games            7   \n",
       "62883             304                          Monitors            3   \n",
       "\n",
       "                            category  store_country store_state  \\\n",
       "0             Cameras and camcorders         Canada     Nunavut   \n",
       "1             Cameras and camcorders         Online      Online   \n",
       "2                    Home Appliances         Online      Online   \n",
       "3             Cameras and camcorders         Online      Online   \n",
       "4                          Computers         Online      Online   \n",
       "...                              ...            ...         ...   \n",
       "62879                      Computers  United States      Alaska   \n",
       "62880                          Audio         Online      Online   \n",
       "62881  Music, Movies and Audio Books         Online      Online   \n",
       "62882                 Games and Toys         Online      Online   \n",
       "62883                      Computers         Online      Online   \n",
       "\n",
       "       square_meters   open_date  exchange  \n",
       "0             1210.0  2015-04-04    1.3884  \n",
       "1                0.0  2010-01-01    1.0000  \n",
       "2                0.0  2010-01-01    1.0000  \n",
       "3                0.0  2010-01-01    1.3884  \n",
       "4                0.0  2010-01-01    1.3884  \n",
       "...              ...         ...       ...  \n",
       "62879         1190.0  2015-01-01    1.0000  \n",
       "62880            0.0  2010-01-01    0.8238  \n",
       "62881            0.0  2010-01-01    1.2610  \n",
       "62882            0.0  2010-01-01    1.2610  \n",
       "62883            0.0  2010-01-01    1.2610  \n",
       "\n",
       "[62884 rows x 28 columns]"
      ]
     },
     "execution_count": 163,
     "metadata": {},
     "output_type": "execute_result"
    }
   ],
   "source": [
    "df"
   ]
  },
  {
   "cell_type": "code",
   "execution_count": 165,
   "metadata": {
    "colab": {
     "base_uri": "https://localhost:8080/"
    },
    "executionInfo": {
     "elapsed": 358,
     "status": "ok",
     "timestamp": 1738739597598,
     "user": {
      "displayName": "Nandhakumar Gajendran",
      "userId": "10811775384992849761"
     },
     "user_tz": -330
    },
    "id": "jC3ZNoOzKqKb",
    "outputId": "8fc541dd-cc41-4381-bf4e-90ab09d56cc5"
   },
   "outputs": [
    {
     "data": {
      "text/plain": [
       "0"
      ]
     },
     "execution_count": 165,
     "metadata": {},
     "output_type": "execute_result"
    }
   ],
   "source": [
    "df.duplicated().sum()"
   ]
  },
  {
   "cell_type": "code",
   "execution_count": 167,
   "metadata": {
    "colab": {
     "base_uri": "https://localhost:8080/"
    },
    "executionInfo": {
     "elapsed": 459,
     "status": "ok",
     "timestamp": 1738739601205,
     "user": {
      "displayName": "Nandhakumar Gajendran",
      "userId": "10811775384992849761"
     },
     "user_tz": -330
    },
    "id": "0SwCfhhqA9AW",
    "outputId": "242a3048-046f-4aa4-a83d-5d21eefece8d"
   },
   "outputs": [
    {
     "name": "stdout",
     "output_type": "stream",
     "text": [
      "Number of unique male customers: 6029\n"
     ]
    }
   ],
   "source": [
    "male_customer_count = df[df['gender'] == 'Male']['customerkey'].nunique()\n",
    "print(f\"Number of unique male customers: {male_customer_count}\")"
   ]
  },
  {
   "cell_type": "code",
   "execution_count": 169,
   "metadata": {},
   "outputs": [
    {
     "name": "stdout",
     "output_type": "stream",
     "text": [
      "Database 'Data_Spark_GlobalElectronics' created successfully!\n"
     ]
    }
   ],
   "source": [
    "import mysql.connector\n",
    "\n",
    "# Connect to MySQL\n",
    "conn = mysql.connector.connect(\n",
    "    host=\"localhost\",\n",
    "    user=\"root\",\n",
    "    password=\"yogeshwaran\"  # Replace with your MySQL password\n",
    ")\n",
    "\n",
    "cursor = conn.cursor()\n",
    "\n",
    "# Create Database\n",
    "cursor.execute(\"CREATE DATABASE IF NOT EXISTS Data_Spark_GlobalElectronics\")\n",
    "print(\"Database 'Data_Spark_GlobalElectronics' created successfully!\")\n",
    "\n",
    "# Close connection\n",
    "cursor.close()\n",
    "conn.close()\n"
   ]
  },
  {
   "cell_type": "code",
   "execution_count": 207,
   "metadata": {
    "id": "BHHwCEZ_WtzT"
   },
   "outputs": [
    {
     "name": "stdout",
     "output_type": "stream",
     "text": [
      "Table Created successfully\n",
      "Data successfully loaded into MySQL!\n"
     ]
    }
   ],
   "source": [
    "# Connect to MySQL\n",
    "conn = mysql.connector.connect(\n",
    "    host=\"localhost\",\n",
    "    user=\"root\",\n",
    "    password=\"yogeshwaran\",  # Replace with your MySQL password\n",
    "    database=\"Data_Spark_GlobalElectronics\"\n",
    ")\n",
    "\n",
    "cursor = conn.cursor()\n",
    "\n",
    "# Replace 'your_table_name' with the desired table name in your MySQL database\n",
    "table_name = 'proj_data_spark_merged'\n",
    "\n",
    "# Create the table if it doesn't exist\n",
    "cursor.execute(f'''\n",
    "    CREATE TABLE IF NOT EXISTS {table_name} (\n",
    "                                            order_number INT,\n",
    "                                            line_item INT,\n",
    "                                            order_date DATE,\n",
    "                                            customerkey INT,\n",
    "                                            storekey INT,\n",
    "                                            productkey INT,\n",
    "                                            quantity INT,\n",
    "                                            currency_code VARCHAR(255),\n",
    "                                            gender VARCHAR(255),\n",
    "                                            customers_city VARCHAR(255),\n",
    "                                            customers_state VARCHAR(255),\n",
    "                                            customers_country VARCHAR(255),\n",
    "                                            customers_continent VARCHAR(255),\n",
    "                                            age INT,\n",
    "                                            product_name VARCHAR(255),\n",
    "                                            brand VARCHAR(255),\n",
    "                                            color VARCHAR(255),\n",
    "                                            _unit_cost_usd_ FLOAT,\n",
    "                                            _unit_price_usd_ FLOAT,\n",
    "                                            subcategorykey INT,\n",
    "                                            subcategory VARCHAR(255),\n",
    "                                            categorykey INT,\n",
    "                                            category VARCHAR(255),\n",
    "                                            store_country VARCHAR(255),\n",
    "                                            store_state VARCHAR(255),\n",
    "                                            square_meters FLOAT,\n",
    "                                            open_date DATE,\n",
    "                                            exchange FLOAT\n",
    "                                            )\n",
    "                                        ''')\n",
    "print(\"Table Created successfully\")\n",
    "\n",
    "\n",
    "# Read the merged DataFrame\n",
    "df = pd.read_csv(r'C:\\Users\\Bhuvanesh\\Desktop\\Yogesh Guvi\\Data Spark Project\\Data Set\\Cleaned\\Merged_df.csv')\n",
    "\n",
    "# Prepare data for insertion\n",
    "data = df.values.tolist()\n",
    "insert_query = f'''\n",
    "    INSERT INTO {table_name} (\n",
    "        order_number,\n",
    "        line_item,\n",
    "        order_date,\n",
    "        customerkey,\n",
    "        storekey,\n",
    "        productkey,\n",
    "        quantity,\n",
    "        currency_code,\n",
    "        gender,\n",
    "        customers_city,\n",
    "        customers_state,\n",
    "        customers_country,\n",
    "        customers_continent,\n",
    "        age,\n",
    "        product_name,\n",
    "        brand,\n",
    "        color,\n",
    "        _unit_cost_usd_,\n",
    "        _unit_price_usd_,\n",
    "        subcategorykey,\n",
    "        subcategory,\n",
    "        categorykey,\n",
    "        category,\n",
    "        store_country,\n",
    "        store_state,\n",
    "        square_meters,\n",
    "        open_date,\n",
    "        exchange \n",
    "    ) VALUES (%s,%s,%s,%s,%s,%s,%s,%s,%s,%s,%s,%s,%s,%s,%s,%s,%s,%s,%s,%s,%s,%s,%s,%s,%s,%s,%s,%s)\n",
    "'''\n",
    "\n",
    "\n",
    "# Insert data into the table\n",
    "for _, row in df.iterrows():\n",
    "    cursor.execute(insert_query, (\n",
    "                                    row['order_number'],\n",
    "                                    row['line_item'],\n",
    "                                    row['order_date'],\n",
    "                                    row['customerkey'],\n",
    "                                    row['storekey'],\n",
    "                                    row['productkey'],\n",
    "                                    row['quantity'],\n",
    "                                    row['currency_code'],\n",
    "                                    row['gender'],\n",
    "                                    row['customers_city'],\n",
    "                                    row['customers_state'],\n",
    "                                    row['customers_country'],\n",
    "                                    row['customers_continent'],\n",
    "                                    row['age'],\n",
    "                                    row['product_name'],\n",
    "                                    row['brand'],\n",
    "                                    row['color'],\n",
    "                                    row['_unit_cost_usd_'],\n",
    "                                    row['_unit_price_usd_'],\n",
    "                                    row['subcategorykey'],\n",
    "                                    row['subcategory'],\n",
    "                                    row['categorykey'],\n",
    "                                    row['category'],\n",
    "                                    row['store_country'],\n",
    "                                    row['store_state'],\n",
    "                                    row['square_meters'],\n",
    "                                    row['open_date'],\n",
    "                                    row['exchange']                                 \n",
    "                                                                                                        \n",
    "                                    ))\n",
    "\n",
    "conn.commit()\n",
    "cursor.close()\n",
    "conn.close()\n",
    "print(\"Data successfully loaded into MySQL!\")\n",
    "\n",
    "\n",
    "# Close connection\n",
    "cursor.close()\n",
    "conn.close()"
   ]
  },
  {
   "cell_type": "code",
   "execution_count": null,
   "metadata": {},
   "outputs": [],
   "source": []
  }
 ],
 "metadata": {
  "colab": {
   "authorship_tag": "ABX9TyMCQUriB3NpMNLJR3DqMjUG",
   "collapsed_sections": [
    "zYjold8v6Ik8",
    "0JTLCXxA8qxk",
    "m6Ovb3i7CTAU"
   ],
   "mount_file_id": "1Lk-5WYpVI2a8viZPwiT4hvgVsJIRHL1c",
   "provenance": []
  },
  "kernelspec": {
   "display_name": "Python 3 (ipykernel)",
   "language": "python",
   "name": "python3"
  },
  "language_info": {
   "codemirror_mode": {
    "name": "ipython",
    "version": 3
   },
   "file_extension": ".py",
   "mimetype": "text/x-python",
   "name": "python",
   "nbconvert_exporter": "python",
   "pygments_lexer": "ipython3",
   "version": "3.11.7"
  }
 },
 "nbformat": 4,
 "nbformat_minor": 4
}
